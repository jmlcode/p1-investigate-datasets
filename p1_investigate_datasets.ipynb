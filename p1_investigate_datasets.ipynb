{
 "cells": [
  {
   "cell_type": "markdown",
   "metadata": {},
   "source": [
    "<center><h1>Investigate Environment and Economy across Countries with Energy Consumption Data</h1></center>\n",
    "<center><h2>Project 1: Investigate Datasets</h2></center>\n",
    "<h2>Table of Contents</h2>\n",
    "<ul>\n",
    "<li><a href=\"#intro\">Introduction</a></li>\n",
    "<li><a href=\"#wrangling\">Data Wrangling</a></li>\n",
    "<li><a href=\"#eda\">Exploratory Data Analysis</a></li>\n",
    "<li><a href=\"#conclusions\">Conclusions</a></li>\n",
    "</ul>"
   ]
  },
  {
   "cell_type": "markdown",
   "metadata": {},
   "source": [
    "<a id='intro'></a>\n",
    "<h2>Introduction</h2>\n",
    "    <p>From the <a href=\"https://www.gapminder.org/data/\">Gapminder World</a>, which includes data for various indicators covering topics across industries and sectors, three indicators, <em>Energy</em>, <em>Environment</em> and <em>Economy</em>, were selected to gain insights into countries' environment and economy from their consumption of energy. The investigation and the findings covered in this report are divided into two sections as listed below. The specific datasets which were selected from each indicator and used in each section and the specific questions explored in each section are covered in detail in the following two sections.</p>\n",
    "    <h3>CO2 Emissions vs. Oil and Coal Consumption</h3>\n",
    "        <p>Conventional sources of energy such as oil and coal are known to be major contributors to the emissions of greenhouse gas such as CO2. This section analyzes three datasets listed below to answer several questions which aim to identify both the major consumers of these conventional energy sources and the countries with the greatest CO2 emissions, and explore the relationship between the consumption of oil and coal and the emissions of CO2.</p>\n",
    "        <h4>Datasets</h4>\n",
    "            <ul>\n",
    "            <li><em>Energy</em></li>\n",
    "                <ul style=\"list-style-type\">\n",
    "                <li>Oil consumption, total</li>\n",
    "                <li>Coal consumption, total</li>\n",
    "                </ul>\n",
    "            <li><em>Environment</em>: CO2 emissions yearly</li>\n",
    "            </ul>\n",
    "        <h4>Questions</h4>\n",
    "            <ol>\n",
    "            <li>Which five countries show the largest mean yearly consumption of oil and coal from 1995 to 2014?</li>\n",
    "            <li>Which five countries show the largest mean yearly CO2 emissions for the same period?</li>\n",
    "            <li>Does larger yearly consumption of oil and coal necessarily indicate larger yearly emissions of CO2?</li>\n",
    "            <li>How do the yearly trends in the consumption of oil and coal and the emissions of CO2 in these countries explain the answer to the question above?</li>\n",
    "            </ol>\n",
    "    <h3>GDP vs. Energy Consumption</h3>\n",
    "        <p>Various sources of energy have driven technological development and have sustained the key technologies which individuals across countries and businesses across industries heavily depend on. With this role of energy becoming more significant due to various factors such as the rising population, the rising demand for more advanced technologies and the limited availability of resources, securing affordable and sustainable sources of energy is an interest shared among all countries today. Unfortunately, external factors such as diplomatic relations and internal factors such as availability of local oil reserves introduce discrepancies to countries' ability to secure affordable and sustainable sources of energy.</p>\n",
    "        <p>This section analyzes three datasets listed below to answer several questions which explore the relationship between countries' energy consumption and their GDP and aim to speculate if a country's ability to secure affordable and sustainable energy source potentially depends on or impacts the country's economy. Please note that the section does not focus on establishing a causality for these two variables.</p>\n",
    "        <h4>Datasets</h4>\n",
    "            <ul>\n",
    "            <li><em>Energy</em></li>\n",
    "                <ul style=\"list-style-type\">\n",
    "                <li>Energy use, per person</li>\n",
    "                <li>Energy production /person (omitted for EDA)</li>\n",
    "                </ul>\n",
    "            <li><em>Economy</em>: GDP/capita (USD, inflation-adjusted)</li>\n",
    "            </ul>\n",
    "        <h4>Questions</h4>\n",
    "            <ol>\n",
    "            <li>What is the correlation coefficient for the energy consumption and GDP for the data from 2000 to 2009?</li>\n",
    "            <li>What are the distributions of the energy consumption data and GDP across countries for the same period?</li>\n",
    "            </ol>"
   ]
  },
  {
   "cell_type": "markdown",
   "metadata": {},
   "source": [
    "<a id='wrangling'></a>\n",
    "<h2>Data Wrangling</h2>"
   ]
  },
  {
   "cell_type": "code",
   "execution_count": 1,
   "metadata": {},
   "outputs": [],
   "source": [
    "# Import all relevant packages\n",
    "import pandas as pd\n",
    "import numpy as np\n",
    "import copy\n",
    "import matplotlib.pyplot as plt\n",
    "%matplotlib inline\n",
    "import seaborn as sns\n",
    "sns.set_style('darkgrid', {'grid.linestyle': 'dotted'})"
   ]
  },
  {
   "cell_type": "markdown",
   "metadata": {},
   "source": [
    "<h3>CO2 Emissions vs. Oil and Coal Consumption</h3>"
   ]
  },
  {
   "cell_type": "code",
   "execution_count": 2,
   "metadata": {},
   "outputs": [],
   "source": [
    "# Energy: Oil consumption, total and Coal consumption, total\n",
    "df_energy_oil = pd.read_csv('data/energy_total_consumption_oil.csv')\n",
    "df_energy_coal = pd.read_csv('data/energy_total_consumption_coal.csv')\n",
    "\n",
    "# Environment: CO2 emissions yearly\n",
    "df_env_co2 = pd.read_csv('data/environment_total_emission_co2.csv')"
   ]
  },
  {
   "cell_type": "markdown",
   "metadata": {},
   "source": [
    "<h4>General Properties</h4>\n",
    "    <p>Six lines of code included after the list shown below were used to identify six general properties of the three datasets, regarding their structures.</p>\n",
    "    <ol>\n",
    "    <li>Total oil consumption dataset <code>df_energy_oil</code> has a total of 65 rows and 53 columns.</li>\n",
    "    <li>Total coal consumption dataset <code>df_energy_coal</code> has the same dimensions as <code>df_energy_oil</code>.</li>\n",
    "    <li>In <code>df_energy_oil</code>, the first column <code>country</code> includes the countries for which the data was collected, and the remaining columns from <code>1965</code> to <code>2016</code> represent the years for the total annual consumption of oil.</li>\n",
    "    <li><code>df_energy_coal</code> has the same columns as <code>df_energy_oil</code> in the same order.</li>\n",
    "    <li>Yearly CO2 emissions dataset <code>df_env_co2</code> has a total of 192 rows and 265 columns.</li>\n",
    "    <li>In <code>df_env_co2</code>, the first column <code>country</code> includes the countries for which the data was collected, and the remaining columns from <code>1751</code> to <code>2014</code> represent the years for the annual CO2 emissions.</li>\n",
    "    </ol>"
   ]
  },
  {
   "cell_type": "code",
   "execution_count": 3,
   "metadata": {},
   "outputs": [
    {
     "data": {
      "text/plain": [
       "(65, 53)"
      ]
     },
     "execution_count": 3,
     "metadata": {},
     "output_type": "execute_result"
    }
   ],
   "source": [
    "# General Properties 1\n",
    "df_energy_oil.shape"
   ]
  },
  {
   "cell_type": "code",
   "execution_count": 4,
   "metadata": {},
   "outputs": [
    {
     "data": {
      "text/plain": [
       "True"
      ]
     },
     "execution_count": 4,
     "metadata": {},
     "output_type": "execute_result"
    }
   ],
   "source": [
    "# General Properties 2\n",
    "df_energy_oil.shape == df_energy_coal.shape"
   ]
  },
  {
   "cell_type": "code",
   "execution_count": 5,
   "metadata": {},
   "outputs": [
    {
     "data": {
      "text/plain": [
       "Index(['country', '1965', '1966', '1967', '1968', '1969', '1970', '1971',\n",
       "       '1972', '1973', '1974', '1975', '1976', '1977', '1978', '1979', '1980',\n",
       "       '1981', '1982', '1983', '1984', '1985', '1986', '1987', '1988', '1989',\n",
       "       '1990', '1991', '1992', '1993', '1994', '1995', '1996', '1997', '1998',\n",
       "       '1999', '2000', '2001', '2002', '2003', '2004', '2005', '2006', '2007',\n",
       "       '2008', '2009', '2010', '2011', '2012', '2013', '2014', '2015', '2016'],\n",
       "      dtype='object')"
      ]
     },
     "execution_count": 5,
     "metadata": {},
     "output_type": "execute_result"
    }
   ],
   "source": [
    "# General Properties 3\n",
    "df_energy_oil.columns"
   ]
  },
  {
   "cell_type": "code",
   "execution_count": 6,
   "metadata": {},
   "outputs": [
    {
     "data": {
      "text/plain": [
       "True"
      ]
     },
     "execution_count": 6,
     "metadata": {},
     "output_type": "execute_result"
    }
   ],
   "source": [
    "# General Properties 4\n",
    "(df_energy_oil.columns == df_energy_coal.columns).all()"
   ]
  },
  {
   "cell_type": "code",
   "execution_count": 7,
   "metadata": {},
   "outputs": [
    {
     "data": {
      "text/plain": [
       "(192, 265)"
      ]
     },
     "execution_count": 7,
     "metadata": {},
     "output_type": "execute_result"
    }
   ],
   "source": [
    "# General Properties 5\n",
    "df_env_co2.shape"
   ]
  },
  {
   "cell_type": "code",
   "execution_count": 8,
   "metadata": {
    "scrolled": true
   },
   "outputs": [
    {
     "data": {
      "text/plain": [
       "Index(['country', '1751', '1752', '1753', '1754', '1755', '1756', '1757',\n",
       "       '1758', '1759',\n",
       "       ...\n",
       "       '2005', '2006', '2007', '2008', '2009', '2010', '2011', '2012', '2013',\n",
       "       '2014'],\n",
       "      dtype='object', length=265)"
      ]
     },
     "execution_count": 8,
     "metadata": {},
     "output_type": "execute_result"
    }
   ],
   "source": [
    "# General Properties 6\n",
    "df_env_co2.columns"
   ]
  },
  {
   "cell_type": "markdown",
   "metadata": {},
   "source": [
    "<h4>Data Cleaning</h4>\n",
    "    <p>The general properties discovered above render the following modifications to the original datasets necessary.</p>\n",
    "    <ol>\n",
    "    <li>Create a subset for each dataset for the same time period covered by all three datasets.</li>\n",
    "    <li>Combine the two subsets from <code>df_energy_oil</code> and <code>df_energy_coal</code> so that the data in the new subset represents each country's annual total consumption of oil and coal.</li>\n",
    "    <li>From the two new sub-datasets, compute the mean annual total oil and coal consumption and the mean annual CO2 emissions by applying <code>mean()</code> across columns for each country.</li>\n",
    "    <li>In the two new sub-datasets, combine the columns representing the years to a single new column <code>year</code> so that the structure of the data is directly applicable to creating visualizations.</li>\n",
    "    </ol>\n",
    "    <p>For <em>Item 1</em>, the 20-year period from 1995 to 2014 was selected for analyzing the three datasets. Subsets of these datasets for this time period were created according to the steps shown below. In case of the annual CO2 emissions, <code>set_index('country')</code> was used because combining the other two datasets as described in <em>Item 2</em> involves setting the <code>country</code> column as the index.</p>"
   ]
  },
  {
   "cell_type": "code",
   "execution_count": 9,
   "metadata": {},
   "outputs": [],
   "source": [
    "# Create subsets for 1995-2014 with indexing\n",
    "subdf_energy_oil = df_energy_oil.iloc[:, np.r_[0, -22:-2]]\n",
    "subdf_energy_coal = df_energy_coal.iloc[:, np.r_[0, -22:-2]]\n",
    "subdf_env_co2 = df_env_co2.iloc[:, np.r_[0, -20:-0]].set_index('country')"
   ]
  },
  {
   "cell_type": "markdown",
   "metadata": {},
   "source": [
    "<p>Two sub-datasets <code>subdf_energy_oil</code> and <code>subdf_energy_coal</code> were concatenated and sorted by countries. The sorting is not required to add the total consumption of oil and the total consumption of coal by each country. However, the sorting was performed to check and verify that the two datasets were combined as desired. Also, as mentioned previously, in the final combined dataset <code>df_energy_v2</code>, <code>country</code> was changed from a column to an index as a result of performing <code>groupby('country')</code>.</p>"
   ]
  },
  {
   "cell_type": "code",
   "execution_count": 10,
   "metadata": {},
   "outputs": [
    {
     "data": {
      "text/html": [
       "<div>\n",
       "<style scoped>\n",
       "    .dataframe tbody tr th:only-of-type {\n",
       "        vertical-align: middle;\n",
       "    }\n",
       "\n",
       "    .dataframe tbody tr th {\n",
       "        vertical-align: top;\n",
       "    }\n",
       "\n",
       "    .dataframe thead th {\n",
       "        text-align: right;\n",
       "    }\n",
       "</style>\n",
       "<table border=\"1\" class=\"dataframe\">\n",
       "  <thead>\n",
       "    <tr style=\"text-align: right;\">\n",
       "      <th></th>\n",
       "      <th>1995</th>\n",
       "      <th>1996</th>\n",
       "      <th>1997</th>\n",
       "      <th>1998</th>\n",
       "      <th>1999</th>\n",
       "      <th>2000</th>\n",
       "      <th>2001</th>\n",
       "      <th>2002</th>\n",
       "      <th>2003</th>\n",
       "      <th>2004</th>\n",
       "      <th>2005</th>\n",
       "      <th>2006</th>\n",
       "      <th>2007</th>\n",
       "      <th>2008</th>\n",
       "      <th>2009</th>\n",
       "      <th>2010</th>\n",
       "      <th>2011</th>\n",
       "      <th>2012</th>\n",
       "      <th>2013</th>\n",
       "      <th>2014</th>\n",
       "    </tr>\n",
       "    <tr>\n",
       "      <th>country</th>\n",
       "      <th></th>\n",
       "      <th></th>\n",
       "      <th></th>\n",
       "      <th></th>\n",
       "      <th></th>\n",
       "      <th></th>\n",
       "      <th></th>\n",
       "      <th></th>\n",
       "      <th></th>\n",
       "      <th></th>\n",
       "      <th></th>\n",
       "      <th></th>\n",
       "      <th></th>\n",
       "      <th></th>\n",
       "      <th></th>\n",
       "      <th></th>\n",
       "      <th></th>\n",
       "      <th></th>\n",
       "      <th></th>\n",
       "      <th></th>\n",
       "    </tr>\n",
       "  </thead>\n",
       "  <tbody>\n",
       "    <tr>\n",
       "      <th>Algeria</th>\n",
       "      <td>9050000</td>\n",
       "      <td>8352000</td>\n",
       "      <td>8502000</td>\n",
       "      <td>8768000</td>\n",
       "      <td>8697000</td>\n",
       "      <td>8965000</td>\n",
       "      <td>9340000</td>\n",
       "      <td>10465000</td>\n",
       "      <td>10706000</td>\n",
       "      <td>11323000</td>\n",
       "      <td>11594000</td>\n",
       "      <td>12382000</td>\n",
       "      <td>13657000</td>\n",
       "      <td>14757000</td>\n",
       "      <td>15386000</td>\n",
       "      <td>15110000</td>\n",
       "      <td>16075000</td>\n",
       "      <td>17092000</td>\n",
       "      <td>17758000</td>\n",
       "      <td>17879000</td>\n",
       "    </tr>\n",
       "    <tr>\n",
       "      <th>Argentina</th>\n",
       "      <td>21271000</td>\n",
       "      <td>22013000</td>\n",
       "      <td>21946000</td>\n",
       "      <td>22331000</td>\n",
       "      <td>20836000</td>\n",
       "      <td>20914000</td>\n",
       "      <td>20265000</td>\n",
       "      <td>18661000</td>\n",
       "      <td>19281000</td>\n",
       "      <td>20570000</td>\n",
       "      <td>21930000</td>\n",
       "      <td>22860000</td>\n",
       "      <td>25420000</td>\n",
       "      <td>26290000</td>\n",
       "      <td>25255000</td>\n",
       "      <td>29370000</td>\n",
       "      <td>29850000</td>\n",
       "      <td>30910000</td>\n",
       "      <td>33150000</td>\n",
       "      <td>32790000</td>\n",
       "    </tr>\n",
       "    <tr>\n",
       "      <th>Australia</th>\n",
       "      <td>78100000</td>\n",
       "      <td>80300000</td>\n",
       "      <td>83200000</td>\n",
       "      <td>85200000</td>\n",
       "      <td>86600000</td>\n",
       "      <td>86600000</td>\n",
       "      <td>86300000</td>\n",
       "      <td>87200000</td>\n",
       "      <td>88500000</td>\n",
       "      <td>91700000</td>\n",
       "      <td>91200000</td>\n",
       "      <td>96000000</td>\n",
       "      <td>95200000</td>\n",
       "      <td>98100000</td>\n",
       "      <td>96600000</td>\n",
       "      <td>93100000</td>\n",
       "      <td>94400000</td>\n",
       "      <td>93000000</td>\n",
       "      <td>91200000</td>\n",
       "      <td>90700000</td>\n",
       "    </tr>\n",
       "    <tr>\n",
       "      <th>Austria</th>\n",
       "      <td>14770000</td>\n",
       "      <td>15180000</td>\n",
       "      <td>15590000</td>\n",
       "      <td>15650000</td>\n",
       "      <td>15430000</td>\n",
       "      <td>15550000</td>\n",
       "      <td>16670000</td>\n",
       "      <td>17030000</td>\n",
       "      <td>18290000</td>\n",
       "      <td>17900000</td>\n",
       "      <td>18000000</td>\n",
       "      <td>18270000</td>\n",
       "      <td>17300000</td>\n",
       "      <td>17150000</td>\n",
       "      <td>15680000</td>\n",
       "      <td>16780000</td>\n",
       "      <td>16170000</td>\n",
       "      <td>15730000</td>\n",
       "      <td>15980000</td>\n",
       "      <td>15500000</td>\n",
       "    </tr>\n",
       "    <tr>\n",
       "      <th>Azerbaijan</th>\n",
       "      <td>6583000</td>\n",
       "      <td>5943000</td>\n",
       "      <td>5653000</td>\n",
       "      <td>5950000</td>\n",
       "      <td>5730000</td>\n",
       "      <td>6330000</td>\n",
       "      <td>4003000</td>\n",
       "      <td>3672000</td>\n",
       "      <td>4273000</td>\n",
       "      <td>4480920</td>\n",
       "      <td>5383220</td>\n",
       "      <td>4813220</td>\n",
       "      <td>4521240</td>\n",
       "      <td>3596980</td>\n",
       "      <td>3314120</td>\n",
       "      <td>3220526</td>\n",
       "      <td>3993470</td>\n",
       "      <td>4170545</td>\n",
       "      <td>4542940</td>\n",
       "      <td>4451660</td>\n",
       "    </tr>\n",
       "  </tbody>\n",
       "</table>\n",
       "</div>"
      ],
      "text/plain": [
       "                1995      1996      1997      1998      1999      2000  \\\n",
       "country                                                                  \n",
       "Algeria      9050000   8352000   8502000   8768000   8697000   8965000   \n",
       "Argentina   21271000  22013000  21946000  22331000  20836000  20914000   \n",
       "Australia   78100000  80300000  83200000  85200000  86600000  86600000   \n",
       "Austria     14770000  15180000  15590000  15650000  15430000  15550000   \n",
       "Azerbaijan   6583000   5943000   5653000   5950000   5730000   6330000   \n",
       "\n",
       "                2001      2002      2003      2004      2005      2006  \\\n",
       "country                                                                  \n",
       "Algeria      9340000  10465000  10706000  11323000  11594000  12382000   \n",
       "Argentina   20265000  18661000  19281000  20570000  21930000  22860000   \n",
       "Australia   86300000  87200000  88500000  91700000  91200000  96000000   \n",
       "Austria     16670000  17030000  18290000  17900000  18000000  18270000   \n",
       "Azerbaijan   4003000   3672000   4273000   4480920   5383220   4813220   \n",
       "\n",
       "                2007      2008      2009      2010      2011      2012  \\\n",
       "country                                                                  \n",
       "Algeria     13657000  14757000  15386000  15110000  16075000  17092000   \n",
       "Argentina   25420000  26290000  25255000  29370000  29850000  30910000   \n",
       "Australia   95200000  98100000  96600000  93100000  94400000  93000000   \n",
       "Austria     17300000  17150000  15680000  16780000  16170000  15730000   \n",
       "Azerbaijan   4521240   3596980   3314120   3220526   3993470   4170545   \n",
       "\n",
       "                2013      2014  \n",
       "country                         \n",
       "Algeria     17758000  17879000  \n",
       "Argentina   33150000  32790000  \n",
       "Australia   91200000  90700000  \n",
       "Austria     15980000  15500000  \n",
       "Azerbaijan   4542940   4451660  "
      ]
     },
     "execution_count": 10,
     "metadata": {},
     "output_type": "execute_result"
    }
   ],
   "source": [
    "# Combine two sub-datasets subdf_energy_oil and subdf_energy_coal\n",
    "df_energy_v1 = pd.concat(objs = [subdf_energy_oil, subdf_energy_coal]).sort_values(by = 'country')\n",
    "# df_energy_v1.head()\n",
    "\n",
    "# Sum annual data for each country\n",
    "df_energy_v2 = df_energy_v1.groupby('country').sum()\n",
    "df_energy_v2.head()"
   ]
  },
  {
   "cell_type": "markdown",
   "metadata": {},
   "source": [
    "<p> As described in <em>Item 3</em>, <code>mean()</code> was applied to the two new sub-datasets, <code>df_energy_v2</code> and <code>subdf_env_co2</code>, across all their columns. For each resulting series sorted in descending order, top five rows were collected to identify five countries with the largest annual oil and coal consumption and the largest annual CO2 emissions.</p>"
   ]
  },
  {
   "cell_type": "code",
   "execution_count": 11,
   "metadata": {},
   "outputs": [],
   "source": [
    "# Top five countries with largest \n",
    "mean_energy_consumption = df_energy_v2.mean(axis=1).sort_values(ascending = False).head() # mean annual oil and coal consumption\n",
    "mean_co2_emission = subdf_env_co2.mean(axis=1).sort_values(ascending = False).head() # mean annual CO2 emissions"
   ]
  },
  {
   "cell_type": "markdown",
   "metadata": {},
   "source": [
    "<p>Interestingly, the top five consumers of oil and coal are also those with highest annual CO2 emissions, an observation which will be explored and discussed in detail in the <strong>Exploratory Data Analysis</strong> section. This observation allows the two series, <code>mean_energy_consumption</code> and <code>mean_co2_emission</code>, to be joined by <code>country</code> to create the dataframe <code>df_energy_co2</code> with a structure which facilitates data visualization."
   ]
  },
  {
   "cell_type": "code",
   "execution_count": 12,
   "metadata": {
    "scrolled": true
   },
   "outputs": [
    {
     "name": "stdout",
     "output_type": "stream",
     "text": [
      "<Annual Oil and Coal Consumption>\n",
      "country\n",
      "China            1.571200e+09\n",
      "United States    1.397450e+09\n",
      "India            3.514650e+08\n",
      "Japan            3.416850e+08\n",
      "Russia           2.323800e+08\n",
      "dtype: float64\n",
      "\n",
      "<Annual CO2 Emissions>\n",
      "country\n",
      "China            6076500.0\n",
      "United States    5469500.0\n",
      "Russia           1633500.0\n",
      "India            1350200.0\n",
      "Japan            1208500.0\n",
      "dtype: float64\n",
      "\n"
     ]
    }
   ],
   "source": [
    "mean_dict = {'Annual Oil and Coal Consumption':mean_energy_consumption\n",
    "            , 'Annual CO2 Emissions':mean_co2_emission}\n",
    "for key in mean_dict:\n",
    "    print('<{}>\\n{}\\n'.format(key, mean_dict[key]))"
   ]
  },
  {
   "cell_type": "code",
   "execution_count": 13,
   "metadata": {},
   "outputs": [
    {
     "data": {
      "text/html": [
       "<div>\n",
       "<style scoped>\n",
       "    .dataframe tbody tr th:only-of-type {\n",
       "        vertical-align: middle;\n",
       "    }\n",
       "\n",
       "    .dataframe tbody tr th {\n",
       "        vertical-align: top;\n",
       "    }\n",
       "\n",
       "    .dataframe thead th {\n",
       "        text-align: right;\n",
       "    }\n",
       "</style>\n",
       "<table border=\"1\" class=\"dataframe\">\n",
       "  <thead>\n",
       "    <tr style=\"text-align: right;\">\n",
       "      <th></th>\n",
       "      <th>country</th>\n",
       "      <th>mean_energy_consumption</th>\n",
       "      <th>mean_co2_emission</th>\n",
       "    </tr>\n",
       "  </thead>\n",
       "  <tbody>\n",
       "    <tr>\n",
       "      <th>0</th>\n",
       "      <td>China</td>\n",
       "      <td>1.571200e+09</td>\n",
       "      <td>6076500.0</td>\n",
       "    </tr>\n",
       "    <tr>\n",
       "      <th>1</th>\n",
       "      <td>United States</td>\n",
       "      <td>1.397450e+09</td>\n",
       "      <td>5469500.0</td>\n",
       "    </tr>\n",
       "    <tr>\n",
       "      <th>2</th>\n",
       "      <td>India</td>\n",
       "      <td>3.514650e+08</td>\n",
       "      <td>1350200.0</td>\n",
       "    </tr>\n",
       "    <tr>\n",
       "      <th>3</th>\n",
       "      <td>Japan</td>\n",
       "      <td>3.416850e+08</td>\n",
       "      <td>1208500.0</td>\n",
       "    </tr>\n",
       "    <tr>\n",
       "      <th>4</th>\n",
       "      <td>Russia</td>\n",
       "      <td>2.323800e+08</td>\n",
       "      <td>1633500.0</td>\n",
       "    </tr>\n",
       "  </tbody>\n",
       "</table>\n",
       "</div>"
      ],
      "text/plain": [
       "         country  mean_energy_consumption  mean_co2_emission\n",
       "0          China             1.571200e+09          6076500.0\n",
       "1  United States             1.397450e+09          5469500.0\n",
       "2          India             3.514650e+08          1350200.0\n",
       "3          Japan             3.416850e+08          1208500.0\n",
       "4         Russia             2.323800e+08          1633500.0"
      ]
     },
     "execution_count": 13,
     "metadata": {},
     "output_type": "execute_result"
    }
   ],
   "source": [
    "df_energy_co2 = pd.concat([mean_energy_consumption, mean_co2_emission], axis = 1, join = 'inner', keys = 'country')\n",
    "df_energy_co2.columns = ['mean_energy_consumption', 'mean_co2_emission']\n",
    "df_energy_co2.reset_index('country', inplace = True)\n",
    "df_energy_co2"
   ]
  },
  {
   "cell_type": "markdown",
   "metadata": {},
   "source": [
    "<p>To address <em>Item 4</em>, the two sub-datasets, <code>df_energy_v2</code> and <code>subdf_env_co2</code>, were first queried for only the data which correspond to the five countries with the largest annual oil and coal consumption and CO2 emissions.</p>"
   ]
  },
  {
   "cell_type": "code",
   "execution_count": 14,
   "metadata": {},
   "outputs": [],
   "source": [
    "# 5 countries with largest annual oil and coal consumption and CO2 emissions\n",
    "top_5_country = df_energy_co2['country']\n",
    "\n",
    "# Annual oil and coal consumption data for top_5_country\n",
    "df_energy_v3 = df_energy_v2.reset_index('country').query('country in @top_5_country')\n",
    "df_energy_v3.index = np.arange(len(df_energy_v3))\n",
    "\n",
    "# Annual CO2 emissions data for top_5_country\n",
    "df_co2_v1 = subdf_env_co2.reset_index('country').query('country in @top_5_country')\n",
    "df_co2_v1.index = np.arange(len(df_co2_v1))"
   ]
  },
  {
   "cell_type": "markdown",
   "metadata": {},
   "source": [
    "<p>Then, the columns representing each year and their values were assigned to the new columns, <code>year</code> and <code>energy_consumption</code> (or <code>co2_emission</code>), respectively.</p>"
   ]
  },
  {
   "cell_type": "code",
   "execution_count": 15,
   "metadata": {},
   "outputs": [],
   "source": [
    "# Combine year columns to a single year column and assign their values to a new column\n",
    "df_energy_v4 = pd.melt(frame = df_energy_v3, id_vars = ['country']\n",
    "                       , value_vars = list(df_energy_v3.columns[1:]) # year columns from 1995 to 2014\n",
    "                       , var_name = 'year' # new column for the year columns\n",
    "                       , value_name = 'energy_consumption') # new column for values originally under the year columns\n",
    "df_co2_v2 = pd.melt(frame = df_co2_v1, id_vars = ['country']\n",
    "                    , value_vars = list(df_co2_v1.columns[1:]) # year columns from 1995 to 2014\n",
    "                    , var_name = 'year' # new column for the year columns\n",
    "                    , value_name = 'co2_emission') # new column for values originally under the year columns\n",
    "\n",
    "df_energy_v4.sort_values(by = ['country', 'year'], inplace = True)\n",
    "df_co2_v2.sort_values(by = ['country', 'year'], inplace = True)\n",
    "\n",
    "df_energy_v4.index = np.arange(len(df_energy_v4))\n",
    "df_co2_v2.index = np.arange(len(df_co2_v2))"
   ]
  },
  {
   "cell_type": "markdown",
   "metadata": {},
   "source": [
    "<p>Finally, the two cleaned datasets were merged to create the dataframe <code>df_energy_co2_annual</code>, which tabulates the yearly oil and coal consumption and CO2 emissions for each country according to a format that is directly applicable to creating visualizations.</p>"
   ]
  },
  {
   "cell_type": "code",
   "execution_count": 16,
   "metadata": {
    "scrolled": false
   },
   "outputs": [
    {
     "data": {
      "text/html": [
       "<div>\n",
       "<style scoped>\n",
       "    .dataframe tbody tr th:only-of-type {\n",
       "        vertical-align: middle;\n",
       "    }\n",
       "\n",
       "    .dataframe tbody tr th {\n",
       "        vertical-align: top;\n",
       "    }\n",
       "\n",
       "    .dataframe thead th {\n",
       "        text-align: right;\n",
       "    }\n",
       "</style>\n",
       "<table border=\"1\" class=\"dataframe\">\n",
       "  <thead>\n",
       "    <tr style=\"text-align: right;\">\n",
       "      <th></th>\n",
       "      <th>country</th>\n",
       "      <th>year</th>\n",
       "      <th>energy_consumption</th>\n",
       "      <th>co2_emission</th>\n",
       "    </tr>\n",
       "  </thead>\n",
       "  <tbody>\n",
       "    <tr>\n",
       "      <th>0</th>\n",
       "      <td>China</td>\n",
       "      <td>1995</td>\n",
       "      <td>825000000</td>\n",
       "      <td>3320000.0</td>\n",
       "    </tr>\n",
       "    <tr>\n",
       "      <th>1</th>\n",
       "      <td>China</td>\n",
       "      <td>1996</td>\n",
       "      <td>872000000</td>\n",
       "      <td>3460000.0</td>\n",
       "    </tr>\n",
       "    <tr>\n",
       "      <th>2</th>\n",
       "      <td>China</td>\n",
       "      <td>1997</td>\n",
       "      <td>874000000</td>\n",
       "      <td>3470000.0</td>\n",
       "    </tr>\n",
       "    <tr>\n",
       "      <th>3</th>\n",
       "      <td>China</td>\n",
       "      <td>1998</td>\n",
       "      <td>874000000</td>\n",
       "      <td>3320000.0</td>\n",
       "    </tr>\n",
       "    <tr>\n",
       "      <th>4</th>\n",
       "      <td>China</td>\n",
       "      <td>1999</td>\n",
       "      <td>905000000</td>\n",
       "      <td>3320000.0</td>\n",
       "    </tr>\n",
       "  </tbody>\n",
       "</table>\n",
       "</div>"
      ],
      "text/plain": [
       "  country  year  energy_consumption  co2_emission\n",
       "0   China  1995           825000000     3320000.0\n",
       "1   China  1996           872000000     3460000.0\n",
       "2   China  1997           874000000     3470000.0\n",
       "3   China  1998           874000000     3320000.0\n",
       "4   China  1999           905000000     3320000.0"
      ]
     },
     "execution_count": 16,
     "metadata": {},
     "output_type": "execute_result"
    }
   ],
   "source": [
    "df_energy_co2_annual = df_energy_v4.merge(right = df_co2_v2, on = ['country', 'year'])\n",
    "df_energy_co2_annual.head()"
   ]
  },
  {
   "cell_type": "code",
   "execution_count": 17,
   "metadata": {},
   "outputs": [],
   "source": [
    "# Save cleaned datasets \n",
    "df_energy_co2.to_csv('data/mean_energy_co2.csv', index = False)\n",
    "df_energy_co2_annual.to_csv('data/annual_energy_co2.csv', index = False)"
   ]
  },
  {
   "cell_type": "markdown",
   "metadata": {},
   "source": [
    "<h3>GDP vs. Energy Consumption</h3>"
   ]
  },
  {
   "cell_type": "code",
   "execution_count": 18,
   "metadata": {},
   "outputs": [],
   "source": [
    "# Energy: Energy use, per person\n",
    "df_energy_cons = pd.read_csv('data/energy_total_consumption.csv')\n",
    "df_energy_prod = pd.read_csv('data/energy_total_production.csv')\n",
    "\n",
    "# Economy: GDP/capita (USD, inflation-adjusted)\n",
    "df_gdp = pd.read_csv('data/economy_gdp.csv')"
   ]
  },
  {
   "cell_type": "markdown",
   "metadata": {},
   "source": [
    "<h4>General Properties</h4>\n",
    "    <p>Four lines of code included after the list shown below were used to identify several general properties of the three datasets, regarding their structures.</p>\n",
    "    <ol>\n",
    "    <li>Dimensions</li>\n",
    "        <ol style=\"list-style-type\">\n",
    "        <li>Energy consumption dataset <code>df_energy_cons</code> has a total of 169 rows and 57 columns.</li>\n",
    "        <li>Energy production dataset <code>df_energy_prod</code> has a total of 133 rows and 52 columns.</li>\n",
    "        <li>GDP/capita dataset <code>df_gdp</code> has a total of 190 rows and 59 columns.</li>\n",
    "        </ol>\n",
    "    <li>Columns</li>\n",
    "        <ol style=\"list-style-type\">\n",
    "        <li>In <code>df_energy_cons</code>, the first column <code>country</code> includes the countries for which the data was collected, and the remaining columns from <code>1960</code> to <code>2015</code> represent the years for the annual use of energy per person.</li>\n",
    "        <li>In <code>df_energy_prod</code>, the first column <code>country</code> includes the countries for which the data was collected, and the remaining columns from <code>1960</code> to <code>2010</code> represent the years for the annual use of energy per person.</li>\n",
    "        <li>In <code>df_gdp</code>, the first column <code>country</code> includes the countries for which the data was collected, and the remaining columns from <code>1960</code> to <code>2017</code> represent the years for GDP/capita.</li>\n",
    "        </ol>\n",
    "    <li>The data in <code>df_energy_cons</code> are several orders of magnitude larger than that of the data in <code>df_energy_prod</code>.</li>\n",
    "    <li>The <code>country</code> column in both datasets, <code>df_energy_cons</code> and <code>df_gdp</code>, does not include any duplicate countries.</li>\n",
    "    </ol>"
   ]
  },
  {
   "cell_type": "code",
   "execution_count": 19,
   "metadata": {},
   "outputs": [
    {
     "data": {
      "text/plain": [
       "((169, 57), (133, 52), (190, 59))"
      ]
     },
     "execution_count": 19,
     "metadata": {},
     "output_type": "execute_result"
    }
   ],
   "source": [
    "# General Properties 1\n",
    "df_energy_cons.shape, df_energy_prod.shape, df_gdp.shape"
   ]
  },
  {
   "cell_type": "code",
   "execution_count": 20,
   "metadata": {},
   "outputs": [
    {
     "data": {
      "text/plain": [
       "Index(['country', '1960', '1961', '1962', '1963', '1964', '1965', '1966',\n",
       "       '1967', '1968', '1969', '1970', '1971', '1972', '1973', '1974', '1975',\n",
       "       '1976', '1977', '1978', '1979', '1980', '1981', '1982', '1983', '1984',\n",
       "       '1985', '1986', '1987', '1988', '1989', '1990', '1991', '1992', '1993',\n",
       "       '1994', '1995', '1996', '1997', '1998', '1999', '2000', '2001', '2002',\n",
       "       '2003', '2004', '2005', '2006', '2007', '2008', '2009', '2010', '2011',\n",
       "       '2012', '2013', '2014', '2015'],\n",
       "      dtype='object')"
      ]
     },
     "execution_count": 20,
     "metadata": {},
     "output_type": "execute_result"
    }
   ],
   "source": [
    "# General Properties 2.A\n",
    "df_energy_cons.columns"
   ]
  },
  {
   "cell_type": "code",
   "execution_count": 21,
   "metadata": {},
   "outputs": [
    {
     "data": {
      "text/plain": [
       "Index(['country', '1960', '1961', '1962', '1963', '1964', '1965', '1966',\n",
       "       '1967', '1968', '1969', '1970', '1971', '1972', '1973', '1974', '1975',\n",
       "       '1976', '1977', '1978', '1979', '1980', '1981', '1982', '1983', '1984',\n",
       "       '1985', '1986', '1987', '1988', '1989', '1990', '1991', '1992', '1993',\n",
       "       '1994', '1995', '1996', '1997', '1998', '1999', '2000', '2001', '2002',\n",
       "       '2003', '2004', '2005', '2006', '2007', '2008', '2009', '2010'],\n",
       "      dtype='object')"
      ]
     },
     "execution_count": 21,
     "metadata": {},
     "output_type": "execute_result"
    }
   ],
   "source": [
    "# General Properties 2.B\n",
    "df_energy_prod.columns"
   ]
  },
  {
   "cell_type": "code",
   "execution_count": 22,
   "metadata": {
    "scrolled": true
   },
   "outputs": [
    {
     "data": {
      "text/plain": [
       "Index(['country', '1960', '1961', '1962', '1963', '1964', '1965', '1966',\n",
       "       '1967', '1968', '1969', '1970', '1971', '1972', '1973', '1974', '1975',\n",
       "       '1976', '1977', '1978', '1979', '1980', '1981', '1982', '1983', '1984',\n",
       "       '1985', '1986', '1987', '1988', '1989', '1990', '1991', '1992', '1993',\n",
       "       '1994', '1995', '1996', '1997', '1998', '1999', '2000', '2001', '2002',\n",
       "       '2003', '2004', '2005', '2006', '2007', '2008', '2009', '2010', '2011',\n",
       "       '2012', '2013', '2014', '2015', '2016', '2017'],\n",
       "      dtype='object')"
      ]
     },
     "execution_count": 22,
     "metadata": {},
     "output_type": "execute_result"
    }
   ],
   "source": [
    "# General Properties 2.C\n",
    "df_gdp.columns"
   ]
  },
  {
   "cell_type": "code",
   "execution_count": 23,
   "metadata": {},
   "outputs": [],
   "source": [
    "# General Properties 3\n",
    "# np.log10(df_energy_cons.iloc[:, 1:]).min().min(), np.log10(df_energy_prod.iloc[:, 1:]).min().min()"
   ]
  },
  {
   "cell_type": "code",
   "execution_count": 24,
   "metadata": {},
   "outputs": [
    {
     "data": {
      "text/html": [
       "<div>\n",
       "<style scoped>\n",
       "    .dataframe tbody tr th:only-of-type {\n",
       "        vertical-align: middle;\n",
       "    }\n",
       "\n",
       "    .dataframe tbody tr th {\n",
       "        vertical-align: top;\n",
       "    }\n",
       "\n",
       "    .dataframe thead th {\n",
       "        text-align: right;\n",
       "    }\n",
       "</style>\n",
       "<table border=\"1\" class=\"dataframe\">\n",
       "  <thead>\n",
       "    <tr style=\"text-align: right;\">\n",
       "      <th></th>\n",
       "      <th>country</th>\n",
       "      <th>1960</th>\n",
       "      <th>1961</th>\n",
       "      <th>1962</th>\n",
       "      <th>1963</th>\n",
       "      <th>1964</th>\n",
       "      <th>1965</th>\n",
       "      <th>1966</th>\n",
       "      <th>1967</th>\n",
       "      <th>1968</th>\n",
       "      <th>...</th>\n",
       "      <th>2001</th>\n",
       "      <th>2002</th>\n",
       "      <th>2003</th>\n",
       "      <th>2004</th>\n",
       "      <th>2005</th>\n",
       "      <th>2006</th>\n",
       "      <th>2007</th>\n",
       "      <th>2008</th>\n",
       "      <th>2009</th>\n",
       "      <th>2010</th>\n",
       "    </tr>\n",
       "  </thead>\n",
       "  <tbody>\n",
       "    <tr>\n",
       "      <th>0</th>\n",
       "      <td>Albania</td>\n",
       "      <td>NaN</td>\n",
       "      <td>NaN</td>\n",
       "      <td>NaN</td>\n",
       "      <td>NaN</td>\n",
       "      <td>NaN</td>\n",
       "      <td>NaN</td>\n",
       "      <td>NaN</td>\n",
       "      <td>NaN</td>\n",
       "      <td>NaN</td>\n",
       "      <td>...</td>\n",
       "      <td>0.00029</td>\n",
       "      <td>0.00031</td>\n",
       "      <td>0.00034</td>\n",
       "      <td>0.00037</td>\n",
       "      <td>0.00037</td>\n",
       "      <td>0.00038</td>\n",
       "      <td>0.00033</td>\n",
       "      <td>0.00036</td>\n",
       "      <td>0.00039</td>\n",
       "      <td>NaN</td>\n",
       "    </tr>\n",
       "    <tr>\n",
       "      <th>1</th>\n",
       "      <td>Algeria</td>\n",
       "      <td>NaN</td>\n",
       "      <td>NaN</td>\n",
       "      <td>NaN</td>\n",
       "      <td>NaN</td>\n",
       "      <td>NaN</td>\n",
       "      <td>NaN</td>\n",
       "      <td>NaN</td>\n",
       "      <td>NaN</td>\n",
       "      <td>NaN</td>\n",
       "      <td>...</td>\n",
       "      <td>0.00441</td>\n",
       "      <td>0.00455</td>\n",
       "      <td>0.00487</td>\n",
       "      <td>0.00487</td>\n",
       "      <td>0.00507</td>\n",
       "      <td>0.00494</td>\n",
       "      <td>0.00485</td>\n",
       "      <td>0.00471</td>\n",
       "      <td>0.00436</td>\n",
       "      <td>NaN</td>\n",
       "    </tr>\n",
       "    <tr>\n",
       "      <th>2</th>\n",
       "      <td>Angola</td>\n",
       "      <td>NaN</td>\n",
       "      <td>NaN</td>\n",
       "      <td>NaN</td>\n",
       "      <td>NaN</td>\n",
       "      <td>NaN</td>\n",
       "      <td>NaN</td>\n",
       "      <td>NaN</td>\n",
       "      <td>NaN</td>\n",
       "      <td>NaN</td>\n",
       "      <td>...</td>\n",
       "      <td>0.00302</td>\n",
       "      <td>0.00345</td>\n",
       "      <td>0.00333</td>\n",
       "      <td>0.00361</td>\n",
       "      <td>0.00430</td>\n",
       "      <td>0.00470</td>\n",
       "      <td>0.00542</td>\n",
       "      <td>0.00586</td>\n",
       "      <td>0.00544</td>\n",
       "      <td>NaN</td>\n",
       "    </tr>\n",
       "    <tr>\n",
       "      <th>3</th>\n",
       "      <td>Argentina</td>\n",
       "      <td>NaN</td>\n",
       "      <td>NaN</td>\n",
       "      <td>NaN</td>\n",
       "      <td>NaN</td>\n",
       "      <td>NaN</td>\n",
       "      <td>NaN</td>\n",
       "      <td>NaN</td>\n",
       "      <td>NaN</td>\n",
       "      <td>NaN</td>\n",
       "      <td>...</td>\n",
       "      <td>0.00227</td>\n",
       "      <td>0.00216</td>\n",
       "      <td>0.00222</td>\n",
       "      <td>0.00227</td>\n",
       "      <td>0.00219</td>\n",
       "      <td>0.00221</td>\n",
       "      <td>0.00211</td>\n",
       "      <td>0.00209</td>\n",
       "      <td>0.00202</td>\n",
       "      <td>NaN</td>\n",
       "    </tr>\n",
       "    <tr>\n",
       "      <th>4</th>\n",
       "      <td>Armenia</td>\n",
       "      <td>NaN</td>\n",
       "      <td>NaN</td>\n",
       "      <td>NaN</td>\n",
       "      <td>NaN</td>\n",
       "      <td>NaN</td>\n",
       "      <td>NaN</td>\n",
       "      <td>NaN</td>\n",
       "      <td>NaN</td>\n",
       "      <td>NaN</td>\n",
       "      <td>...</td>\n",
       "      <td>0.00020</td>\n",
       "      <td>0.00024</td>\n",
       "      <td>0.00023</td>\n",
       "      <td>0.00024</td>\n",
       "      <td>0.00028</td>\n",
       "      <td>0.00028</td>\n",
       "      <td>0.00027</td>\n",
       "      <td>0.00026</td>\n",
       "      <td>0.00027</td>\n",
       "      <td>NaN</td>\n",
       "    </tr>\n",
       "  </tbody>\n",
       "</table>\n",
       "<p>5 rows × 52 columns</p>\n",
       "</div>"
      ],
      "text/plain": [
       "     country  1960  1961  1962  1963  1964  1965  1966  1967  1968  ...  \\\n",
       "0    Albania   NaN   NaN   NaN   NaN   NaN   NaN   NaN   NaN   NaN  ...   \n",
       "1    Algeria   NaN   NaN   NaN   NaN   NaN   NaN   NaN   NaN   NaN  ...   \n",
       "2     Angola   NaN   NaN   NaN   NaN   NaN   NaN   NaN   NaN   NaN  ...   \n",
       "3  Argentina   NaN   NaN   NaN   NaN   NaN   NaN   NaN   NaN   NaN  ...   \n",
       "4    Armenia   NaN   NaN   NaN   NaN   NaN   NaN   NaN   NaN   NaN  ...   \n",
       "\n",
       "      2001     2002     2003     2004     2005     2006     2007     2008  \\\n",
       "0  0.00029  0.00031  0.00034  0.00037  0.00037  0.00038  0.00033  0.00036   \n",
       "1  0.00441  0.00455  0.00487  0.00487  0.00507  0.00494  0.00485  0.00471   \n",
       "2  0.00302  0.00345  0.00333  0.00361  0.00430  0.00470  0.00542  0.00586   \n",
       "3  0.00227  0.00216  0.00222  0.00227  0.00219  0.00221  0.00211  0.00209   \n",
       "4  0.00020  0.00024  0.00023  0.00024  0.00028  0.00028  0.00027  0.00026   \n",
       "\n",
       "      2009  2010  \n",
       "0  0.00039   NaN  \n",
       "1  0.00436   NaN  \n",
       "2  0.00544   NaN  \n",
       "3  0.00202   NaN  \n",
       "4  0.00027   NaN  \n",
       "\n",
       "[5 rows x 52 columns]"
      ]
     },
     "execution_count": 24,
     "metadata": {},
     "output_type": "execute_result"
    }
   ],
   "source": [
    "# General Properties 3\n",
    "df_energy_prod.head()"
   ]
  },
  {
   "cell_type": "code",
   "execution_count": 25,
   "metadata": {},
   "outputs": [
    {
     "data": {
      "text/html": [
       "<div>\n",
       "<style scoped>\n",
       "    .dataframe tbody tr th:only-of-type {\n",
       "        vertical-align: middle;\n",
       "    }\n",
       "\n",
       "    .dataframe tbody tr th {\n",
       "        vertical-align: top;\n",
       "    }\n",
       "\n",
       "    .dataframe thead th {\n",
       "        text-align: right;\n",
       "    }\n",
       "</style>\n",
       "<table border=\"1\" class=\"dataframe\">\n",
       "  <thead>\n",
       "    <tr style=\"text-align: right;\">\n",
       "      <th></th>\n",
       "      <th>country</th>\n",
       "      <th>1960</th>\n",
       "      <th>1961</th>\n",
       "      <th>1962</th>\n",
       "      <th>1963</th>\n",
       "      <th>1964</th>\n",
       "      <th>1965</th>\n",
       "      <th>1966</th>\n",
       "      <th>1967</th>\n",
       "      <th>1968</th>\n",
       "      <th>...</th>\n",
       "      <th>2006</th>\n",
       "      <th>2007</th>\n",
       "      <th>2008</th>\n",
       "      <th>2009</th>\n",
       "      <th>2010</th>\n",
       "      <th>2011</th>\n",
       "      <th>2012</th>\n",
       "      <th>2013</th>\n",
       "      <th>2014</th>\n",
       "      <th>2015</th>\n",
       "    </tr>\n",
       "  </thead>\n",
       "  <tbody>\n",
       "    <tr>\n",
       "      <th>0</th>\n",
       "      <td>Albania</td>\n",
       "      <td>NaN</td>\n",
       "      <td>NaN</td>\n",
       "      <td>NaN</td>\n",
       "      <td>NaN</td>\n",
       "      <td>NaN</td>\n",
       "      <td>NaN</td>\n",
       "      <td>NaN</td>\n",
       "      <td>NaN</td>\n",
       "      <td>NaN</td>\n",
       "      <td>...</td>\n",
       "      <td>707.0</td>\n",
       "      <td>680.0</td>\n",
       "      <td>711.0</td>\n",
       "      <td>732.0</td>\n",
       "      <td>729.0</td>\n",
       "      <td>765.0</td>\n",
       "      <td>688.0</td>\n",
       "      <td>801.0</td>\n",
       "      <td>808.0</td>\n",
       "      <td>NaN</td>\n",
       "    </tr>\n",
       "    <tr>\n",
       "      <th>1</th>\n",
       "      <td>Algeria</td>\n",
       "      <td>NaN</td>\n",
       "      <td>NaN</td>\n",
       "      <td>NaN</td>\n",
       "      <td>NaN</td>\n",
       "      <td>NaN</td>\n",
       "      <td>NaN</td>\n",
       "      <td>NaN</td>\n",
       "      <td>NaN</td>\n",
       "      <td>NaN</td>\n",
       "      <td>...</td>\n",
       "      <td>1030.0</td>\n",
       "      <td>1070.0</td>\n",
       "      <td>1070.0</td>\n",
       "      <td>1150.0</td>\n",
       "      <td>1110.0</td>\n",
       "      <td>1140.0</td>\n",
       "      <td>1220.0</td>\n",
       "      <td>1240.0</td>\n",
       "      <td>1320.0</td>\n",
       "      <td>NaN</td>\n",
       "    </tr>\n",
       "    <tr>\n",
       "      <th>2</th>\n",
       "      <td>Angola</td>\n",
       "      <td>NaN</td>\n",
       "      <td>NaN</td>\n",
       "      <td>NaN</td>\n",
       "      <td>NaN</td>\n",
       "      <td>NaN</td>\n",
       "      <td>NaN</td>\n",
       "      <td>NaN</td>\n",
       "      <td>NaN</td>\n",
       "      <td>NaN</td>\n",
       "      <td>...</td>\n",
       "      <td>456.0</td>\n",
       "      <td>470.0</td>\n",
       "      <td>491.0</td>\n",
       "      <td>514.0</td>\n",
       "      <td>521.0</td>\n",
       "      <td>522.0</td>\n",
       "      <td>553.0</td>\n",
       "      <td>534.0</td>\n",
       "      <td>545.0</td>\n",
       "      <td>NaN</td>\n",
       "    </tr>\n",
       "    <tr>\n",
       "      <th>3</th>\n",
       "      <td>Antigua and Barbuda</td>\n",
       "      <td>NaN</td>\n",
       "      <td>NaN</td>\n",
       "      <td>NaN</td>\n",
       "      <td>NaN</td>\n",
       "      <td>NaN</td>\n",
       "      <td>NaN</td>\n",
       "      <td>NaN</td>\n",
       "      <td>NaN</td>\n",
       "      <td>NaN</td>\n",
       "      <td>...</td>\n",
       "      <td>1580.0</td>\n",
       "      <td>1600.0</td>\n",
       "      <td>NaN</td>\n",
       "      <td>NaN</td>\n",
       "      <td>NaN</td>\n",
       "      <td>NaN</td>\n",
       "      <td>NaN</td>\n",
       "      <td>NaN</td>\n",
       "      <td>NaN</td>\n",
       "      <td>NaN</td>\n",
       "    </tr>\n",
       "    <tr>\n",
       "      <th>4</th>\n",
       "      <td>Argentina</td>\n",
       "      <td>NaN</td>\n",
       "      <td>NaN</td>\n",
       "      <td>NaN</td>\n",
       "      <td>NaN</td>\n",
       "      <td>NaN</td>\n",
       "      <td>NaN</td>\n",
       "      <td>NaN</td>\n",
       "      <td>NaN</td>\n",
       "      <td>NaN</td>\n",
       "      <td>...</td>\n",
       "      <td>1840.0</td>\n",
       "      <td>1850.0</td>\n",
       "      <td>1920.0</td>\n",
       "      <td>1850.0</td>\n",
       "      <td>1910.0</td>\n",
       "      <td>1930.0</td>\n",
       "      <td>1920.0</td>\n",
       "      <td>1950.0</td>\n",
       "      <td>2020.0</td>\n",
       "      <td>NaN</td>\n",
       "    </tr>\n",
       "  </tbody>\n",
       "</table>\n",
       "<p>5 rows × 57 columns</p>\n",
       "</div>"
      ],
      "text/plain": [
       "               country  1960  1961  1962  1963  1964  1965  1966  1967  1968  \\\n",
       "0              Albania   NaN   NaN   NaN   NaN   NaN   NaN   NaN   NaN   NaN   \n",
       "1              Algeria   NaN   NaN   NaN   NaN   NaN   NaN   NaN   NaN   NaN   \n",
       "2               Angola   NaN   NaN   NaN   NaN   NaN   NaN   NaN   NaN   NaN   \n",
       "3  Antigua and Barbuda   NaN   NaN   NaN   NaN   NaN   NaN   NaN   NaN   NaN   \n",
       "4            Argentina   NaN   NaN   NaN   NaN   NaN   NaN   NaN   NaN   NaN   \n",
       "\n",
       "   ...    2006    2007    2008    2009    2010    2011    2012    2013  \\\n",
       "0  ...   707.0   680.0   711.0   732.0   729.0   765.0   688.0   801.0   \n",
       "1  ...  1030.0  1070.0  1070.0  1150.0  1110.0  1140.0  1220.0  1240.0   \n",
       "2  ...   456.0   470.0   491.0   514.0   521.0   522.0   553.0   534.0   \n",
       "3  ...  1580.0  1600.0     NaN     NaN     NaN     NaN     NaN     NaN   \n",
       "4  ...  1840.0  1850.0  1920.0  1850.0  1910.0  1930.0  1920.0  1950.0   \n",
       "\n",
       "     2014  2015  \n",
       "0   808.0   NaN  \n",
       "1  1320.0   NaN  \n",
       "2   545.0   NaN  \n",
       "3     NaN   NaN  \n",
       "4  2020.0   NaN  \n",
       "\n",
       "[5 rows x 57 columns]"
      ]
     },
     "execution_count": 25,
     "metadata": {},
     "output_type": "execute_result"
    }
   ],
   "source": [
    "# General Properties 3\n",
    "df_energy_cons.head()"
   ]
  },
  {
   "cell_type": "code",
   "execution_count": 26,
   "metadata": {
    "scrolled": true
   },
   "outputs": [
    {
     "data": {
      "text/plain": [
       "(False, False)"
      ]
     },
     "execution_count": 26,
     "metadata": {},
     "output_type": "execute_result"
    }
   ],
   "source": [
    "# General Properties 4\n",
    "df_energy_cons['country'].duplicated().any(), df_gdp['country'].duplicated().any()"
   ]
  },
  {
   "cell_type": "markdown",
   "metadata": {},
   "source": [
    "<h4>Data Cleaning</h4>\n",
    "    <p>The general properties discovered above render the following modifications to the original datasets necessary.</p>\n",
    "    <ol>\n",
    "    <li>Determine the countries for which data is available in all three datasets.</li>\n",
    "    <li>Determine the range of years for which all three datasets do not include any null data.</li>\n",
    "    <li>Omit the step for combining the two datasets <code>df_energy_cons</code> and <code>df_energy_prod</code>.</li>\n",
    "        <ul style=\"list-style-type\">\n",
    "        <li>Use <code>df_energy_prod</code> for <em>Item 1</em> and <em>Item 2</em> to narrow the scope of the data for EDA.</li>\n",
    "        <li>Use only <code>df_energy_cons</code> and <code>df_gdp</code> for EDA.</li>\n",
    "        </ul>\n",
    "    <li>From <code>df_energy_cons</code> and <code>df_gdp</code>, compute the mean energy consumption per person and the mean GDP/capita by applying <code>mean()</code> across columns for each country.</li>\n",
    "    <li>Combine the two datasets including the mean energy use per person and the mean GDP/capita so that the resulting dataset is directly applicable for creating visualizations.</li>\n",
    "    </ol>\n",
    "    <p>As described in <em>Item 1</em>, the intersection of the <code>country</code> column in all three datasets were found and assigned to the list object <code>country_ls</code>. Query was performed for all three datasets for only the countries in this list object.</p>"
   ]
  },
  {
   "cell_type": "code",
   "execution_count": 27,
   "metadata": {},
   "outputs": [
    {
     "data": {
      "text/plain": [
       "131"
      ]
     },
     "execution_count": 27,
     "metadata": {},
     "output_type": "execute_result"
    }
   ],
   "source": [
    "# List of countries in all three datasets\n",
    "country_ls_temp = np.intersect1d(df_energy_prod['country'], df_energy_cons['country'])\n",
    "country_ls = np.intersect1d(country_ls_temp, df_gdp['country'])\n",
    "\n",
    "len(country_ls)"
   ]
  },
  {
   "cell_type": "code",
   "execution_count": 28,
   "metadata": {},
   "outputs": [
    {
     "data": {
      "text/plain": [
       "(True, True)"
      ]
     },
     "execution_count": 28,
     "metadata": {},
     "output_type": "execute_result"
    }
   ],
   "source": [
    "# Query data for countries which are observed in all three datasets\n",
    "df_energy_prod_v1 = df_energy_prod.query('country in @country_ls')\n",
    "df_energy_cons_v1 = df_energy_cons.query('country in @country_ls')\n",
    "df_gdp_v1 = df_gdp.query('country in @country_ls')\n",
    "\n",
    "df_energy_prod_v1.shape[0] == df_energy_cons_v1.shape[0], df_energy_cons_v1.shape[0] == df_gdp_v1.shape[0]"
   ]
  },
  {
   "cell_type": "markdown",
   "metadata": {},
   "source": [
    "<p>According to the two blocks of codes shown below, the time period from 2000 to 2009 does not include any null data in all three sub-datasets. Further data cleaning was performed against the two sub-datasets, <code>df_energy_cons_v1</code> and <code>df_gdp_v1</code>, for this time period.</p>"
   ]
  },
  {
   "cell_type": "code",
   "execution_count": 29,
   "metadata": {},
   "outputs": [],
   "source": [
    "# Years in each of the three sub-datasets which do not have any null data\n",
    "yr_ls_energy_prod = [year for year in df_energy_prod_v1.columns[1:] if df_energy_prod_v1[year].isna().any() == False]\n",
    "yr_ls_energy_cons = [year for year in df_energy_cons_v1.columns[1:] if df_energy_cons_v1[year].isna().any() == False]\n",
    "yr_ls_gdp = [year for year in df_gdp_v1.columns[1:] if df_gdp_v1[year].isna().any() == False]"
   ]
  },
  {
   "cell_type": "code",
   "execution_count": 30,
   "metadata": {
    "scrolled": true
   },
   "outputs": [
    {
     "data": {
      "text/plain": [
       "array(['2000', '2001', '2002', '2003', '2004', '2005', '2006', '2007',\n",
       "       '2008', '2009'], dtype='<U4')"
      ]
     },
     "execution_count": 30,
     "metadata": {},
     "output_type": "execute_result"
    }
   ],
   "source": [
    "# Years in all the three sub-datasets which do not have any null data\n",
    "yr_ls_temp = np.intersect1d(yr_ls_energy_prod, yr_ls_energy_cons)\n",
    "yr_ls = np.intersect1d(yr_ls_temp, yr_ls_gdp)\n",
    "\n",
    "yr_ls"
   ]
  },
  {
   "cell_type": "markdown",
   "metadata": {},
   "source": [
    "<p>First, using indexing for non-adjacent columns, two datasets, <code>df_energy_cons_v2</code> and <code>df_gdp_v2</code>, were created for the same time period from 2000 to 2009.</p>"
   ]
  },
  {
   "cell_type": "code",
   "execution_count": 31,
   "metadata": {
    "scrolled": true
   },
   "outputs": [],
   "source": [
    "# Energy use, per person for selected countries from 2000 to 2009\n",
    "df_energy_cons_v2 = df_energy_cons_v1.iloc[:, np.r_[0, -16:-6]]\n",
    "df_energy_cons_v2.index = np.arange(len(df_energy_cons_v2))\n",
    "\n",
    "# GDP/capita for selected countries from 2000 to 2009\n",
    "df_gdp_v2 = df_gdp_v1.iloc[:, np.r_[0, -18:-8]]\n",
    "df_gdp_v2.index = np.arange(len(df_gdp_v2))"
   ]
  },
  {
   "cell_type": "markdown",
   "metadata": {},
   "source": [
    "<p>Then, in each of the two datasets, the mean for the data in each row was computed and listed under a new column <code>mean_cons</code> and <code>mean_gdp</code>. Finally, using indexing for non-adjacent columns, two new datasets, <code>df_energy_cons_v3</code> and <code>df_gdp_v3</code>, were created only including the two columns, one for the country and another for the mean data.</p>"
   ]
  },
  {
   "cell_type": "code",
   "execution_count": 32,
   "metadata": {},
   "outputs": [],
   "source": [
    "# Dataset for Country and its Mean Energy use, per person\n",
    "df_energy_cons_v3 = copy.copy(df_energy_cons_v2)\n",
    "df_energy_cons_v3['mean_cons'] = df_energy_cons_v3.loc[:, '2000':'2009'].mean(axis=1)\n",
    "df_energy_cons_v3 = df_energy_cons_v3.iloc[:, np.r_[0, -1]]\n",
    "\n",
    "# Dataset for Country and its Mean GDP/capita\n",
    "df_gdp_v3 = copy.copy(df_gdp_v2)\n",
    "df_gdp_v3['mean_gdp'] = df_gdp_v3.loc[:, '2000':'2009'].mean(axis=1)\n",
    "df_gdp_v3 = df_gdp_v3.iloc[:, np.r_[0, -1]]"
   ]
  },
  {
   "cell_type": "markdown",
   "metadata": {},
   "source": [
    "<p>The two new datasets, <code>df_energy_cons_v3</code> and <code>df_gdp_v3</code>, were merged with each other by the column <code>country</code> to create the dataset <code>df_energy_gdp</code>, the structure of which is directly applicable for creating visualizations.</p>"
   ]
  },
  {
   "cell_type": "code",
   "execution_count": 33,
   "metadata": {},
   "outputs": [
    {
     "data": {
      "text/html": [
       "<div>\n",
       "<style scoped>\n",
       "    .dataframe tbody tr th:only-of-type {\n",
       "        vertical-align: middle;\n",
       "    }\n",
       "\n",
       "    .dataframe tbody tr th {\n",
       "        vertical-align: top;\n",
       "    }\n",
       "\n",
       "    .dataframe thead th {\n",
       "        text-align: right;\n",
       "    }\n",
       "</style>\n",
       "<table border=\"1\" class=\"dataframe\">\n",
       "  <thead>\n",
       "    <tr style=\"text-align: right;\">\n",
       "      <th></th>\n",
       "      <th>country</th>\n",
       "      <th>mean_cons</th>\n",
       "      <th>mean_gdp</th>\n",
       "    </tr>\n",
       "  </thead>\n",
       "  <tbody>\n",
       "    <tr>\n",
       "      <th>0</th>\n",
       "      <td>Albania</td>\n",
       "      <td>675.0</td>\n",
       "      <td>3127.0</td>\n",
       "    </tr>\n",
       "    <tr>\n",
       "      <th>1</th>\n",
       "      <td>Algeria</td>\n",
       "      <td>981.7</td>\n",
       "      <td>4064.0</td>\n",
       "    </tr>\n",
       "    <tr>\n",
       "      <th>2</th>\n",
       "      <td>Angola</td>\n",
       "      <td>461.6</td>\n",
       "      <td>2485.0</td>\n",
       "    </tr>\n",
       "    <tr>\n",
       "      <th>3</th>\n",
       "      <td>Argentina</td>\n",
       "      <td>1720.0</td>\n",
       "      <td>8498.0</td>\n",
       "    </tr>\n",
       "    <tr>\n",
       "      <th>4</th>\n",
       "      <td>Armenia</td>\n",
       "      <td>790.1</td>\n",
       "      <td>2461.0</td>\n",
       "    </tr>\n",
       "  </tbody>\n",
       "</table>\n",
       "</div>"
      ],
      "text/plain": [
       "     country  mean_cons  mean_gdp\n",
       "0    Albania      675.0    3127.0\n",
       "1    Algeria      981.7    4064.0\n",
       "2     Angola      461.6    2485.0\n",
       "3  Argentina     1720.0    8498.0\n",
       "4    Armenia      790.1    2461.0"
      ]
     },
     "execution_count": 33,
     "metadata": {},
     "output_type": "execute_result"
    }
   ],
   "source": [
    "# Combined dataset for country, its Mean Energy use, per person, and its GDP/capita\n",
    "df_energy_gdp = df_energy_cons_v3.merge(right = df_gdp_v3, on = 'country')\n",
    "df_energy_gdp.head()"
   ]
  },
  {
   "cell_type": "markdown",
   "metadata": {},
   "source": [
    "<p>According to the *<em>scatter plot</em> for <code>mean_gdp</code> vs. <code>mean_cons</code> in <code>df_energy_gdp</code>, data points with <code>mean_cons</code> of 10000 or greater or those with <code>mean_gdp</code> of 57000 or greater appeared to be outliers. To indicate these data points as outliers, a new column <code>outlier</code> was created, to which either a value of <code>yes</code> or <code>no</code> was assigned. Also, a new dataset <code>df_energy_gdp_adj</code> was created which includes only the non-outliers. Note that the lower bounds of the two variables for the outliers were determined via visual means only. This criteria was implemented in <strong>Exploratory Data Analysis</strong> section because **<em>the correlation coefficient was found to increase when the outliers were removed</em> according to this criteria.</p>\n",
    "<p>\n",
    "    <em>*Scatter plot cited below is presented again in <strong>Exploratory Data Analysis</strong>.</em>\n",
    "</p>\n",
    "<p>\n",
    "    <em>**Calculation and analysis of correlation coefficients are discussed in detail in <strong>Exploratory Data Analysis</strong>.</em>\n",
    "</p>"
   ]
  },
  {
   "cell_type": "code",
   "execution_count": 34,
   "metadata": {},
   "outputs": [
    {
     "data": {
      "image/png": "[encoded data removed]",
      "text/plain": [
       "<Figure size 576x576 with 1 Axes>"
      ]
     },
     "metadata": {
      "needs_background": "light"
     },
     "output_type": "display_data"
    }
   ],
   "source": [
    "# Scatter plot\n",
    "plt.figure(figsize = (8,8))\n",
    "plt.scatter(x = df_energy_gdp['mean_cons'], y = df_energy_gdp['mean_gdp'], c = 'green', edgecolors = 'black')\n",
    "\n",
    "# Lower bounds of the two variables for the outliers were added after reviewing the initial scatter plot\n",
    "hline = plt.hlines(y = 57000, xmin = 0, xmax = 20000, colors = 'red', linestyles = '--')\n",
    "vline = plt.vlines(x = 10000, ymin = 0, ymax = 105000, colors = 'red', linestyles = '-.')\n",
    "\n",
    "# Titles, axis labels, and legend\n",
    "plt.title('National Mean Annual GDP per Capita vs.\\nMean Annual Energy Consumption per Capita from 2000 to 2009', fontsize = 16)\n",
    "plt.ylabel('GDP per Capita (USD)', fontsize = 14)\n",
    "plt.xlabel('Energy Consumption per Capita (toe)', fontsize = 14)\n",
    "plt.legend(handles = [hline, vline], labels = ['mean_gdp = 57000', 'mean_cons = 10000']);"
   ]
  },
  {
   "cell_type": "code",
   "execution_count": 35,
   "metadata": {},
   "outputs": [],
   "source": [
    "# Add indicator for outlier to df_energy_gdp\n",
    "for ind in df_energy_gdp.index:\n",
    "    if df_energy_gdp.loc[ind, 'mean_cons'] >= 10000 or df_energy_gdp.loc[ind, 'mean_gdp'] >= 57000:\n",
    "        df_energy_gdp.loc[ind, 'outlier'] = 'yes'\n",
    "    else:\n",
    "        df_energy_gdp.loc[ind, 'outlier'] = 'no'\n",
    "\n",
    "# Create df_energy_gdp_adj for non-outliers\n",
    "df_energy_gdp_adj = df_energy_gdp.query('outlier == \"no\"').iloc[:, :-1]"
   ]
  },
  {
   "cell_type": "code",
   "execution_count": 36,
   "metadata": {},
   "outputs": [],
   "source": [
    "# Save cleaned dataset\n",
    "df_energy_gdp.to_csv('data/energy_gdp.csv', index = False)\n",
    "df_energy_gdp_adj.to_csv('data/energy_gdp_adjusted.csv', index = False)"
   ]
  },
  {
   "cell_type": "markdown",
   "metadata": {},
   "source": [
    "<a id='eda'></a>\n",
    "<h2>Exploratory Data Analysis</h2>"
   ]
  },
  {
   "cell_type": "markdown",
   "metadata": {},
   "source": [
    "<h3>Custom Functions for Plotting</h3>\n",
    "<p>Two new custom functions, <code>plot_bar()</code> and <code>plot_hist()</code>, were defined to streamline the generation of basic plots that would be used in the explanatory data analysis phase.</p>\n",
    "<p>\n",
    "    <ul>\n",
    "    <li><code>plot_bar()</code> which generates a bar plot was used in <strong>CO2 Emissions vs. Oil and Coal Consumption</strong> for plotting the mean annual consumption of oil and coal for the top five countries and the mean annual emissions of CO2 for the top five contributors.</li>\n",
    "    <li><code>plot_hist()</code> which generates a histogram was used in <strong>GDP vs. Energy Consumption</strong> for plotting the distribution of each of the two variables, mean annual energy use per person and mean annual GDP/capita.</li>\n",
    "    </ul>"
   ]
  },
  {
   "cell_type": "code",
   "execution_count": 37,
   "metadata": {},
   "outputs": [],
   "source": [
    "def plot_bar(df, df_x, df_y, label_ls, width = 0.35):\n",
    "    # Parameters from function input\n",
    "    x = np.arange(len(df))\n",
    "    labels = list(df[df_x])\n",
    "    height = df[df_y]    \n",
    "    \n",
    "    # Bar plot\n",
    "    plt.figure(figsize = (8,6)) # Figure size\n",
    "    plt.bar(x = x, width = width, height = height) # Bar\n",
    "    plt.xticks(x, labels) # xtick labels\n",
    "    \n",
    "    # Title and axis labels\n",
    "    plt.title(label_ls[0], fontsize = 16)\n",
    "    plt.xlabel(label_ls[1], fontsize = 14)\n",
    "    plt.ylabel(label_ls[2], fontsize = 14);"
   ]
  },
  {
   "cell_type": "code",
   "execution_count": 38,
   "metadata": {},
   "outputs": [],
   "source": [
    "def plot_hist(df_x, bins, label_ls):\n",
    "    # Histogram plot\n",
    "    plt.figure(figsize = (15,6)) # Figure size\n",
    "    plt.hist(x = df_x, bins = bins)\n",
    "        \n",
    "    # Title and axis labels\n",
    "    plt.title(label_ls[0], fontsize = 16)\n",
    "    plt.xlabel(label_ls[1], fontsize = 14)\n",
    "    plt.ylabel(label_ls[2], fontsize = 14);"
   ]
  },
  {
   "cell_type": "markdown",
   "metadata": {},
   "source": [
    "<h3>CO2 Emissions vs. Oil and Coal Consumption</h3>\n",
    "    <p>The two datasets, <code>mean_energy_co2.csv</code> and <code>annual_energy_co2.csv</code>, which were created from the <strong>Data Cleaning</strong> section were used for the exploratory data analysis.</p>"
   ]
  },
  {
   "cell_type": "code",
   "execution_count": 42,
   "metadata": {},
   "outputs": [],
   "source": [
    "# Load cleaned datasets\n",
    "df_mean_energy_co2 = pd.read_csv('data/mean_energy_co2.csv')\n",
    "df_annual_energy_co2 = pd.read_csv('data/annual_energy_co2.csv')"
   ]
  },
  {
   "cell_type": "markdown",
   "metadata": {},
   "source": [
    "<h4>1. Which five countries show the largest mean yearly consumption of oil and coal from 1995 to 2014?</h4>\n",
    "    <p>As discovered during the data cleaning process, the five largest consumers of oil and coal from 1995 to 2014 were China, United States, India, Japan, and Russia. Top consumer was China, and the next largest consumer was the United States. The mean annual consumption of oil and coal demonstrated by these two countries is approximately 10 times larger than that of other countries. The bar plot of the mean annual consumption of oil and coal for these five countries visually demonstrates this significant difference. The mean annual consumption of oil and coal is similar for India and Japan. Russia showed the least amount of mean annual consumption of oil and coal among the five countries.</p>"
   ]
  },
  {
   "cell_type": "code",
   "execution_count": 43,
   "metadata": {
    "scrolled": true
   },
   "outputs": [
    {
     "data": {
      "text/html": [
       "<div>\n",
       "<style scoped>\n",
       "    .dataframe tbody tr th:only-of-type {\n",
       "        vertical-align: middle;\n",
       "    }\n",
       "\n",
       "    .dataframe tbody tr th {\n",
       "        vertical-align: top;\n",
       "    }\n",
       "\n",
       "    .dataframe thead th {\n",
       "        text-align: right;\n",
       "    }\n",
       "</style>\n",
       "<table border=\"1\" class=\"dataframe\">\n",
       "  <thead>\n",
       "    <tr style=\"text-align: right;\">\n",
       "      <th></th>\n",
       "      <th>country</th>\n",
       "      <th>mean_energy_consumption</th>\n",
       "    </tr>\n",
       "  </thead>\n",
       "  <tbody>\n",
       "    <tr>\n",
       "      <th>0</th>\n",
       "      <td>China</td>\n",
       "      <td>1.571200e+09</td>\n",
       "    </tr>\n",
       "    <tr>\n",
       "      <th>1</th>\n",
       "      <td>United States</td>\n",
       "      <td>1.397450e+09</td>\n",
       "    </tr>\n",
       "    <tr>\n",
       "      <th>2</th>\n",
       "      <td>India</td>\n",
       "      <td>3.514650e+08</td>\n",
       "    </tr>\n",
       "    <tr>\n",
       "      <th>3</th>\n",
       "      <td>Japan</td>\n",
       "      <td>3.416850e+08</td>\n",
       "    </tr>\n",
       "    <tr>\n",
       "      <th>4</th>\n",
       "      <td>Russia</td>\n",
       "      <td>2.323800e+08</td>\n",
       "    </tr>\n",
       "  </tbody>\n",
       "</table>\n",
       "</div>"
      ],
      "text/plain": [
       "         country  mean_energy_consumption\n",
       "0          China             1.571200e+09\n",
       "1  United States             1.397450e+09\n",
       "2          India             3.514650e+08\n",
       "3          Japan             3.416850e+08\n",
       "4         Russia             2.323800e+08"
      ]
     },
     "execution_count": 43,
     "metadata": {},
     "output_type": "execute_result"
    }
   ],
   "source": [
    "df_mean_energy_co2.iloc[:, :-1]"
   ]
  },
  {
   "cell_type": "code",
   "execution_count": 44,
   "metadata": {},
   "outputs": [
    {
     "data": {
      "image/png": "[encoded data removed]",
      "text/plain": [
       "<Figure size 576x432 with 1 Axes>"
      ]
     },
     "metadata": {
      "needs_background": "light"
     },
     "output_type": "display_data"
    }
   ],
   "source": [
    "# Input parameters for plot_bar()\n",
    "df = df_mean_energy_co2 # dataframe\n",
    "df_x = 'country' # variable for x-axis\n",
    "df_y = 'mean_energy_consumption' # variable for y-axis\n",
    "label_ls = ['Five Countries with Largest Mean Annual\\nConsumption of Oil and Coal from 1995 to 2014' # Title\n",
    "            , 'Country' # x-axis label\n",
    "            , 'Total Oil and Coal Consumption (toe)'] # y-axis label\n",
    "\n",
    "# Create bar plot for mean annual oil and coal consumption of five countries\n",
    "plot_bar(df, df_x, df_y, label_ls)"
   ]
  },
  {
   "cell_type": "markdown",
   "metadata": {},
   "source": [
    "<h4>2. Which five countries show the largest mean yearly CO2 emissions for the same period [from 1995 to 2014?]</h4>\n",
    "    <p>Also discovered during the data cleaning process, the five countries which showed the largest mean annual CO2 emissions from 1995 to 2014 were also China, United States, India, Japan, and Russia. Again, the first in rank was China, which was followed by the United States. The mean annual CO2 emissions shown by these two countries is much larger than that of other countries. The bar plot of the mean annual CO2 emissions for these five countries visually demonstrates this significant difference. Unlike the trend shown in the previous plot, Russia ranked the third in mean annual CO2 emissions while Japan showed the least amount of annual CO2 emissions among the five countries.</p>"
   ]
  },
  {
   "cell_type": "code",
   "execution_count": 45,
   "metadata": {
    "scrolled": false
   },
   "outputs": [
    {
     "data": {
      "text/html": [
       "<div>\n",
       "<style scoped>\n",
       "    .dataframe tbody tr th:only-of-type {\n",
       "        vertical-align: middle;\n",
       "    }\n",
       "\n",
       "    .dataframe tbody tr th {\n",
       "        vertical-align: top;\n",
       "    }\n",
       "\n",
       "    .dataframe thead th {\n",
       "        text-align: right;\n",
       "    }\n",
       "</style>\n",
       "<table border=\"1\" class=\"dataframe\">\n",
       "  <thead>\n",
       "    <tr style=\"text-align: right;\">\n",
       "      <th></th>\n",
       "      <th>country</th>\n",
       "      <th>mean_co2_emission</th>\n",
       "    </tr>\n",
       "  </thead>\n",
       "  <tbody>\n",
       "    <tr>\n",
       "      <th>0</th>\n",
       "      <td>China</td>\n",
       "      <td>6076500.0</td>\n",
       "    </tr>\n",
       "    <tr>\n",
       "      <th>1</th>\n",
       "      <td>United States</td>\n",
       "      <td>5469500.0</td>\n",
       "    </tr>\n",
       "    <tr>\n",
       "      <th>4</th>\n",
       "      <td>Russia</td>\n",
       "      <td>1633500.0</td>\n",
       "    </tr>\n",
       "    <tr>\n",
       "      <th>2</th>\n",
       "      <td>India</td>\n",
       "      <td>1350200.0</td>\n",
       "    </tr>\n",
       "    <tr>\n",
       "      <th>3</th>\n",
       "      <td>Japan</td>\n",
       "      <td>1208500.0</td>\n",
       "    </tr>\n",
       "  </tbody>\n",
       "</table>\n",
       "</div>"
      ],
      "text/plain": [
       "         country  mean_co2_emission\n",
       "0          China          6076500.0\n",
       "1  United States          5469500.0\n",
       "4         Russia          1633500.0\n",
       "2          India          1350200.0\n",
       "3          Japan          1208500.0"
      ]
     },
     "execution_count": 45,
     "metadata": {},
     "output_type": "execute_result"
    }
   ],
   "source": [
    "df_mean_energy_co2.iloc[:, np.r_[0,2]].sort_values(by = 'mean_co2_emission', ascending = False)"
   ]
  },
  {
   "cell_type": "code",
   "execution_count": 46,
   "metadata": {},
   "outputs": [
    {
     "data": {
      "image/png": "[encoded data removed]",
      "text/plain": [
       "<Figure size 576x432 with 1 Axes>"
      ]
     },
     "metadata": {
      "needs_background": "light"
     },
     "output_type": "display_data"
    }
   ],
   "source": [
    "# Input parameters for plot_bar()\n",
    "df = df_mean_energy_co2 # dataframe\n",
    "df_x = 'country' # variable for x-axis\n",
    "df_y = 'mean_co2_emission' # variable for y-axis\n",
    "label_ls = ['Five Countries with Largest Mean Annual\\nCO2 Emissions from 1995 to 2014' # Title\n",
    "            , 'Country' # x-axis label\n",
    "            , 'CO2 Emission (1000 tonnes)'] # y-axis label\n",
    "\n",
    "# Create bar plot for mean annual CO2 emissions of five countries\n",
    "plot_bar(df, df_x, df_y, label_ls)"
   ]
  },
  {
   "cell_type": "markdown",
   "metadata": {},
   "source": [
    "<h4>3. Does larger yearly consumption of oil and coal necessarily indicate larger yearly emissions of CO2?</h4>\n",
    "    <p>In case of the countries, China, United States, Japan, India, and Russia, the data from the dataset <code>df_mean_energy_co2</code> which were displayed and reviewed in the first two questions suggest that a country with a relatively large annual consumption of oil and coal would also show relatively large annual CO2 emissions.</p>\n",
    "    <p>Although the bar plot cited below confirms both this suggestion and the two observations mentioned in the previous questions, this plot also indicates that a country's rank for its annual consumption of oil and coal may not necessarily be the same as the country's rank for its annual CO2 emissions. For example, among the five countries that are presented in the plot, Russia showed the least annual consumption of oil and coal but ranked the third with its annual emissions of CO2.</p>"
   ]
  },
  {
   "cell_type": "code",
   "execution_count": null,
   "metadata": {
    "scrolled": false
   },
   "outputs": [],
   "source": [
    "# Plot mean annual oil and coal consumption and CO2 emissions for the five major consumers/contributors\n",
    "fig, ax1 = plt.subplots(nrows = 1, ncols = 1, figsize = (8,8))\n",
    "\n",
    "x_loc = np.arange(len(df_mean_energy_co2))\n",
    "width = 0.35\n",
    "locations = x_loc + width / 2\n",
    "labels = list(df_mean_energy_co2['country'])\n",
    "\n",
    "# Bar plot\n",
    "mean_energy = ax1.bar(x = x_loc, width = width\n",
    "                      , height = df_mean_energy_co2['mean_energy_consumption']\n",
    "                      , color = 'blue'\n",
    "                      , label = 'Mean Oil and Coal Consumption')\n",
    "ax2 = ax1.twinx() # Create 2nd bar plot for the right y-axis\n",
    "mean_co2 = ax2.bar(x = x_loc + width, width = width\n",
    "                   , height = df_mean_energy_co2['mean_co2_emission']\n",
    "                   , color = 'orange'\n",
    "                   , label = 'Mean CO2 Emission')\n",
    "\n",
    "fig.suptitle('Mean Consumption of Oil and Coal, and CO2 Emission\\nin Five Countries from 1995 to 2014', fontsize = 16)\n",
    "plt.xticks(locations, labels)\n",
    "ax1.set_xlabel('Country', fontsize = 14)\n",
    "ax1.set_ylabel('Total Oil and Coal Consumption (toe)', fontsize = 14)\n",
    "ax2.set_ylabel('CO2 Emission (1000 tonnes)', fontsize = 14)\n",
    "plt.legend(handles = [mean_energy, mean_co2]\n",
    "           , labels = ['Mean Oil and Coal Consumption', 'Mean CO2 Emission']\n",
    "           , loc = 'upper right');"
   ]
  },
  {
   "cell_type": "markdown",
   "metadata": {},
   "source": [
    "<h4>4. How do the yearly trends in the consumption of oil and coal and the emissions of CO2 in these countries explain the answer to the question above?</h4>\n",
    "    <p>The curves for each country's annual consumption of oil and coal and CO2 emissions from 1995 to 2014 support the three observations discussed in the previous questions.</p>\n",
    "    <ul>\n",
    "    <li>As expected, China and the United States' mean annual consumption of oil and coal and CO2 emissions were much larger than those of the other three countries because the curves for China and the United States are significantly above those for the other three countries. Unlike the United States with a relatively steady annual consumption of oil and coal between 1.25 and 1.5 (1e9 toe), China's annual consumption of oil and coal had significantly increased since 2001. In fact, China's annual consumption of oil and coal for 2014 was more than two times larger than that for 2001.</li>\n",
    "    <li>Russia's mean annual consumption of oil and coal was the least among all five countries because its curve lies at the bottom of the plot.</li>\n",
    "    <li>Russia's mean annual CO2 emissions, however, was ranked the third among the five countries because its curve lies in between the curves for the other four countries.</li>\n",
    "    </ul>\n",
    "    <p>Comparison of the two plots also indicate that from 1995 to 2014, the annual trend in oil and coal consumption and the annual trend in CO2 emissions are similar for each of the five countries. For instance, the curves for the United States, Japan, and Russia are relatively horizontal in both plots. In case of China, the slope of the curves in both plots increased from 2001 to 2013. In case of India, both the annual consumption of oil and coal and the annual CO2 emissions gradually increased from 1995 to 2014. This finding aligns with the notion that conventional sources of energy such as oil and consumption contribute to the emissions of greenhouse gases such as CO2.</p>"
   ]
  },
  {
   "cell_type": "code",
   "execution_count": null,
   "metadata": {},
   "outputs": [],
   "source": [
    "# Plot yearly oil and coal consumption and CO2 emissions data for the five major consumers/contributors\n",
    "fig, ax = plt.subplots(nrows = 1, ncols = 2, figsize = (18,10))\n",
    "\n",
    "# Line plot\n",
    "for key, group in df_annual_energy_co2.groupby('country'): # Plot for each country at a time\n",
    "    ax[0] = group.plot(ax = ax[0], x = 'year', y = 'energy_consumption', kind = 'line', label = key) # Plot for oil and coal consumption\n",
    "    ax[1] = group.plot(ax = ax[1], x = 'year', y = 'co2_emission', kind = 'line', label = key) # Plot for CO2 emissions\n",
    "\n",
    "# Although the data type for each year is \"int\", the original xticks were displayed as \"float\".\n",
    "xticks = list(np.arange(start = df_annual_energy_co2['year'].min()\n",
    "                        , stop = int(df_annual_energy_co2['year'].max())+1\n",
    "                        , step = 2))\n",
    "\n",
    "fig.suptitle('Annual Trends in Total Energy Consumption and Greenhouse Gas Emission\\nof Five Countries from 1995 to 2014', fontsize = 18)\n",
    "\n",
    "ax[0].set_title('Annual Oil and Coal Consumption', fontsize = 16)\n",
    "ax[0].set_xlabel('Year', fontsize = 14)\n",
    "ax[0].set_ylabel('Total Oil and Coal Consumption (toe)', fontsize = 14)\n",
    "ax[0].set_xticks(ticks = xticks)\n",
    "ax[0].legend(fontsize = 13)\n",
    "\n",
    "ax[1].set_title('Annual CO2 Emission', fontsize = 16)\n",
    "ax[1].set_xlabel('Year', fontsize = 14)\n",
    "ax[1].set_ylabel('CO2 Emission (1000 tonnes)', fontsize = 14)\n",
    "ax[1].set_xticks(ticks = xticks)\n",
    "ax[1].legend(fontsize = 13);"
   ]
  },
  {
   "cell_type": "markdown",
   "metadata": {},
   "source": [
    "<h3>GDP vs. Energy Consumption</h3>\n",
    "        <p>Both datasets, <code>energy_gdp.csv</code> and <code>energy_gdp_adjusted.csv</code>, which were created from the <strong>Data Cleaning</strong> section were used for the exploratory data analysis.</p>"
   ]
  },
  {
   "cell_type": "code",
   "execution_count": null,
   "metadata": {},
   "outputs": [],
   "source": [
    "# Load cleaned dataset\n",
    "df_energy_gdp = pd.read_csv('data/energy_gdp.csv')\n",
    "df_energy_gdp_adj = pd.read_csv('data/energy_gdp_adjusted.csv')"
   ]
  },
  {
   "cell_type": "markdown",
   "metadata": {},
   "source": [
    "<h4>1. What is the correlation coefficient for the energy consumption and GDP for the data from 2000 to 2009?</h4>\n",
    "    <p>As briefly mentioned in the <strong>Data Cleaning</strong> section, the scatter plot which is shown in the second block of code below for GDP per capita and energy use per person contained in the dataset <code>df_energy_gdp</code> suggests that the data points indicated in red are outliers. For the dataset which includes these outliers, the correlation coefficient <code>cc</code> for the two variables is 0.720, suggesting a weak positive relationship between the two variables.</p>\n",
    "    <p>For the dataset <code>df_energy_gdp_adj</code> which excludes the outliers, the correlation coefficient <code>cc_adj</code> for the two variables is 0.855, a 18.8% increase from the correlation coefficient <code>cc</code> for the dataset including the outliers. According to the value of <code>cc_adj</code>, the two variables for the data points excluding the outliers have a strong positive relationship, a characteristic suggested by the green data points presented in the same scatter plot.</p>"
   ]
  },
  {
   "cell_type": "code",
   "execution_count": null,
   "metadata": {},
   "outputs": [],
   "source": [
    "# Correlation coefficient for GDP/capita vs. Energy use, per person\n",
    "cc = np.corrcoef(df_energy_gdp['mean_cons'], df_energy_gdp['mean_gdp'])[0,1] # including outliers\n",
    "cc_adj = np.corrcoef(df_energy_gdp_adj['mean_cons'], df_energy_gdp_adj['mean_gdp'])[0,1] # excluding outliers\n",
    "\n",
    "# % change in correlation coefficient after excluding outliers\n",
    "delta_cc = (cc_adj - cc)/cc*100\n",
    "print('{}% change from {} to {}'.format(delta_cc, cc, cc_adj))"
   ]
  },
  {
   "cell_type": "code",
   "execution_count": null,
   "metadata": {
    "scrolled": false
   },
   "outputs": [],
   "source": [
    "# Plot mean Energy use, per person and mean GDP/capita of each country from 2000 to 2009\n",
    "plt.figure(figsize = (8,8))\n",
    "\n",
    "# Scatter plot including outliers\n",
    "for ind, outlier in zip(df_energy_gdp.index, df_energy_gdp['outlier']):\n",
    "    if outlier == 'yes': # indicate outliers in red\n",
    "        plt.scatter(x = df_energy_gdp.loc[ind, 'mean_cons'], y = df_energy_gdp.loc[ind, 'mean_gdp'], c = 'red')\n",
    "    else: # indicate non-outliers in green\n",
    "        plt.scatter(x = df_energy_gdp.loc[ind, 'mean_cons'], y = df_energy_gdp.loc[ind, 'mean_gdp'], c = 'green', edgecolors = 'black')\n",
    "\n",
    "# Horizontal and vertical lines indicating lower bounds for an outlier\n",
    "hline = plt.hlines(y = 57000, xmin = 0, xmax = 20000, colors = 'red', linestyles = '--', label = 'mean_gdp = 57000')\n",
    "vline = plt.vlines(x = 10000, ymin = 0, ymax = 105000, colors = 'red', linestyles = '-.', label = 'mean_cons = 10000')\n",
    "\n",
    "# Title and axis labels\n",
    "plt.title('National Mean GDP per Capita vs. Mean Energy Use per Person from 2000 to 2009', fontsize = 16)\n",
    "plt.ylabel('GDP per Capita (USD)', fontsize = 14)\n",
    "plt.xlabel('Energy Use per Person (toe)', fontsize = 14)\n",
    "plt.legend(handles = [hline, vline], labels = ['mean_gdp = 57000', 'mean_cons = 10000'])\n",
    "\n",
    "# Display correlation coefficient\n",
    "plt.text(x = 14700, y = 94000, s = 'Correlation\\nCoefficient: {}'.format(round(cc, 3)), fontsize = 12, bbox = dict(facecolor='red', alpha=0.5));"
   ]
  },
  {
   "cell_type": "markdown",
   "metadata": {},
   "source": [
    "<h4>2. What are the distributions of the energy consumption data and GDP across countries for the same period?</h4>\n",
    "    <p>The code block below was used to find the following pieces of information.</p>\n",
    "    <ol>\n",
    "    <li>The minimum, 25th percentile, median, 75th percentile, and maximum values of the mean energy use per person.</li>\n",
    "    <li>The country which each value of the mean energy use per person corresponds to.</li>\n",
    "    <li>The values of the mean GDP/capita in these five countries.</li>\n",
    "    </ol>\n",
    "    <p>According to this analysis, Bangladesh, China, and United Arab Emirates represented the minimum, median, and maximum values of the mean energy use per person data, respectively. The median value 1290.15 toe is approximately eight times the minimum value 161.5 toe, but the maximum value 9744.0 toe is approximately 60 times the minimum value. These values suggest that the distribution of the national mean energy use per person must be right-skewed.</p>"
   ]
  },
  {
   "cell_type": "code",
   "execution_count": null,
   "metadata": {},
   "outputs": [],
   "source": [
    "stat_ls = ['min', '25%', '50%', '75%', 'max'] # Statistics of interest\n",
    "stat_dict = {} # Store indices and data from df_energy_gdp_adj which correspond to the data for the stats in stat_ls\n",
    "ind_ls = [] # Store indices of df_energy_gdp_adj which contain the data for the stats in stat_ls\n",
    "\n",
    "for stat in stat_ls:\n",
    "    x = df_energy_gdp_adj['mean_cons'].describe()[stat]\n",
    "    \n",
    "    # Find df_energy_gdp_adj['mean_cons'] values which correspond to the stats from the statistical summary\n",
    "    x_temp = min(df_energy_gdp_adj['mean_cons'], key = lambda z: abs(z-x))\n",
    "    \n",
    "    # Indices of df_energy_gdp_adj which contain the data retrieved from the statistical summary\n",
    "    ind = df_energy_gdp_adj.query('mean_cons == @x_temp').index\n",
    "    ind_ls.append(ind.item())\n",
    "    \n",
    "    y = df_energy_gdp_adj.loc[ind, 'mean_gdp'].item() # Mean GDP/capita for this index\n",
    "    c = df_energy_gdp_adj.loc[ind, 'country'].item() # Country for this index\n",
    "    \n",
    "    stat_dict[ind.item()] = ['{} (energy cons.):\\n{}'.format(stat, c), (x, y)]\n",
    "\n",
    "for key in stat_dict:\n",
    "    print('{} (ind: {})'.format(stat_dict[key][0], key))\n",
    "    print(' - mean energy consumption: {}'.format(stat_dict[key][1][0]))\n",
    "    print(' - mean gdp               : {}'.format(stat_dict[key][1][1]))"
   ]
  },
  {
   "cell_type": "markdown",
   "metadata": {},
   "source": [
    "<p>As previously mentioned, the scatter plot for the dataset which excludes the outliers illustrates a stronger positive correlation between the national mean GDP/capita and mean energy use per person. The improved correlation coefficient value of 0.855 is also displayed in the scatter plot below. According to this observation, countries in this dataset which show high mean energy use per person also show high GDP/capita and vice versa.</p>\n",
    "<p>Also, the red markers which indicate the data points for the minimum, 25th percentile, median, 75th percentile, and maximum values of mean energy use per person visually demonstrate that the distribution for the national mean energy use per person is right-skewed. In addition, the proximity of data points with each other suggests that the distribution for the national mean GDP/capita is also right-skewed. In other words, large gaps in the economy and in the energy use exist across countries especially between those in the opposite sides of the spectrum. However, the scatter plot alone is insufficient to determine whether the ability to use energy sources is directly influenced by GPD/capita or if GDP/capita is shaped by the energy use per person.</p>"
   ]
  },
  {
   "cell_type": "code",
   "execution_count": null,
   "metadata": {},
   "outputs": [],
   "source": [
    "# Plot mean Energy use, per person and mean GDP/capita of each country from 2000 to 2009\n",
    "plt.figure(figsize = (8,8))\n",
    "\n",
    "# Scatter plot excluding outliers\n",
    "for ind in df_energy_gdp_adj.index:\n",
    "    \n",
    "    if ind in ind_ls: # If the mean Energy use per person corresponds to one of the five statistical summaries,\n",
    "        # then plot the data point with a red colored \"X\"\n",
    "        plt.scatter(x = df_energy_gdp_adj.loc[ind, 'mean_cons'], y = df_energy_gdp_adj.loc[ind, 'mean_gdp']\n",
    "                    , s = 100, marker = 'X', c = 'red', edgecolors = 'black')\n",
    "        \n",
    "        # Label each statistical summary\n",
    "        if ind == ind_ls[1]:\n",
    "            plt.annotate(s = stat_dict[ind][0]\n",
    "                         , xy = stat_dict[ind][1], xycoords = 'data'\n",
    "                         , xytext = (-50, 25), textcoords = 'offset points'\n",
    "                         , fontstyle = 'italic', fontsize = 12, horizontalalignment = 'center'\n",
    "                         , arrowprops = dict(arrowstyle = \"-\"\n",
    "                                             , connectionstyle = \"arc3, rad=0.3\"\n",
    "                                             , color = 'red'))\n",
    "        elif ind == ind_ls[2]:\n",
    "            plt.annotate(s = stat_dict[ind][0]\n",
    "                         , xy = stat_dict[ind][1], xycoords = 'data'\n",
    "                         , xytext = (-50, 50), textcoords = 'offset points'\n",
    "                         , fontstyle = 'italic', fontsize = 12, horizontalalignment = 'center'\n",
    "                         , arrowprops = dict(arrowstyle = \"-\"\n",
    "                                             , connectionstyle = \"arc3, rad=0.3\"\n",
    "                                             , color = 'red'))\n",
    "        else:\n",
    "            plt.annotate(s = stat_dict[ind][0]\n",
    "                         , xy = stat_dict[ind][1], xycoords = 'data'\n",
    "                         , xytext = (-70, 0), textcoords = 'offset points'\n",
    "                         , fontstyle = 'italic', fontsize = 12, horizontalalignment = 'center'\n",
    "                         , arrowprops = dict(arrowstyle = \"-\"\n",
    "                                             , connectionstyle = \"arc3, rad=0.3\"\n",
    "                                             , color = 'red'))\n",
    "            \n",
    "    else: # If the mean Energy use per person does not correspond to one of the five statistical summaries,\n",
    "        # then plot the data point with a green colored dot\n",
    "        plt.scatter(x = df_energy_gdp_adj.loc[ind, 'mean_cons'], y = df_energy_gdp_adj.loc[ind, 'mean_gdp']\n",
    "                    , s = 25, marker = 'o', c = 'green', edgecolors = 'black')\n",
    "\n",
    "# Title and axis labels\n",
    "plt.title('National Mean Annual GDP per Capita vs.\\nMean Annual Energy Use per Person from 2000 to 2009', fontsize = 16)\n",
    "plt.ylabel('GDP per Capita (USD)', fontsize = 14)\n",
    "plt.xlabel('Energy Use per Person (toe)', fontsize = 14)\n",
    "\n",
    "# Display correlation coefficient\n",
    "plt.text(x = 7900, y = 29000, s = 'Correlation\\nCoefficient: {}'.format(round(cc_adj, 3)), fontsize = 12, bbox = dict(facecolor='red', alpha=0.5));"
   ]
  },
  {
   "cell_type": "markdown",
   "metadata": {},
   "source": [
    "<a id='conclusions'></a>\n",
    "<h2>Conclusions</h2>\n",
    "    <h3>CO2 Emissions vs. Oil and Coal Consumption</h3>\n",
    "        <p>From 1995 to 2014, China and the United States showed the largest mean annual consumption of oil and coal and the largest mean annual CO2 emissions. The two countries were followed by Japan, India, and Russia although the annual consumption of oil and coal and the annual CO2 emissions in China and the United States were significantly larger than those in the other three countries. The data for these five countries suggested that the annual trends in consumption of oil and coal and CO2 emissions align with each other, confirming the notion that conventional sources of energy contribute the emissions of greenhouse gases.</p>\n",
    "        <p>Despite the positive correlation between the consumption of oil and coal and the emissions of CO2, a country with a higher consumption of oil and coal than another country may have lower CO2 emissions than the other country, a characteristic shown in Japan and Russia. The bar and line plots presented in the previous section are insufficient to fully account for this observation.</p>\n",
    "    <h3>GDP vs. Energy Consumption</h3>\n",
    "        <p>The national mean GDP/capita and mean energy use per person from 2000 to 2009 showed a strong positive relationship with a correlation coefficient of 0.855. Thus, countries observed in this dataset that show high mean energy use per person also show high GDP/capita and vice versa.</p>\n",
    "        <p>In addition, according to the scatter plot, the distributions for the mean energy use per person and the mean GDP/capita were right-skewed. The plot illustrated the existence of large gaps in the economy and in the energy use across countries especially between those in the opposite sides of the spectrum. However, the data analysis covered in the previous section did not go further to investigate whether a country's GPD/capita dictates its ability to capitalize on various energy sources or if the energy use per person shapes the country's GDP/capita.</p>"
   ]
  }
 ],
 "metadata": {
  "kernelspec": {
   "display_name": "Python 3",
   "language": "python",
   "name": "python3"
  },
  "language_info": {
   "codemirror_mode": {
    "name": "ipython",
    "version": 3
   },
   "file_extension": ".py",
   "mimetype": "text/x-python",
   "name": "python",
   "nbconvert_exporter": "python",
   "pygments_lexer": "ipython3",
   "version": "3.7.2"
  }
 },
 "nbformat": 4,
 "nbformat_minor": 2
}
